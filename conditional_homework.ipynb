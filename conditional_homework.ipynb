{
 "cells": [
  {
   "cell_type": "markdown",
   "id": "3d6bd129",
   "metadata": {},
   "source": [
    "# Conditionals"
   ]
  },
  {
   "cell_type": "markdown",
   "id": "90a07f4f",
   "metadata": {},
   "source": [
    "## should_work"
   ]
  },
  {
   "cell_type": "code",
   "execution_count": 4,
   "id": "bcca5e14",
   "metadata": {},
   "outputs": [
    {
     "data": {
      "text/plain": [
       "True"
      ]
     },
     "execution_count": 4,
     "metadata": {},
     "output_type": "execute_result"
    }
   ],
   "source": [
    "def should_work(tired):\n",
    "    if tired == True:\n",
    "        return False\n",
    "    else:\n",
    "        return True\n",
    "    \n",
    "tired = True\n",
    "should_work(tired)\n",
    "\n",
    "tired = False\n",
    "should_work(tired)"
   ]
  },
  {
   "cell_type": "markdown",
   "id": "eb8a5f01",
   "metadata": {},
   "source": [
    "## is_even"
   ]
  },
  {
   "cell_type": "code",
   "execution_count": 22,
   "id": "e832f4cc",
   "metadata": {},
   "outputs": [
    {
     "ename": "TypeError",
     "evalue": "unsupported operand type(s) for %: 'NoneType' and 'int'",
     "output_type": "error",
     "traceback": [
      "\u001b[1;31m---------------------------------------------------------------------------\u001b[0m",
      "\u001b[1;31mTypeError\u001b[0m                                 Traceback (most recent call last)",
      "\u001b[1;32m~\\AppData\\Local\\Temp\\ipykernel_25632\\94869567.py\u001b[0m in \u001b[0;36m<module>\u001b[1;34m\u001b[0m\n\u001b[0;32m      8\u001b[0m \u001b[1;33m\u001b[0m\u001b[0m\n\u001b[0;32m      9\u001b[0m \u001b[0mnum\u001b[0m\u001b[1;33m=\u001b[0m \u001b[1;32mNone\u001b[0m\u001b[1;33m\u001b[0m\u001b[1;33m\u001b[0m\u001b[0m\n\u001b[1;32m---> 10\u001b[1;33m \u001b[0mis_even\u001b[0m\u001b[1;33m(\u001b[0m\u001b[0mnum\u001b[0m\u001b[1;33m)\u001b[0m\u001b[1;33m\u001b[0m\u001b[1;33m\u001b[0m\u001b[0m\n\u001b[0m",
      "\u001b[1;32m~\\AppData\\Local\\Temp\\ipykernel_25632\\94869567.py\u001b[0m in \u001b[0;36mis_even\u001b[1;34m(num)\u001b[0m\n\u001b[0;32m      1\u001b[0m \u001b[1;32mdef\u001b[0m \u001b[0mis_even\u001b[0m\u001b[1;33m(\u001b[0m\u001b[0mnum\u001b[0m\u001b[1;33m)\u001b[0m\u001b[1;33m:\u001b[0m\u001b[1;33m\u001b[0m\u001b[1;33m\u001b[0m\u001b[0m\n\u001b[1;32m----> 2\u001b[1;33m     \u001b[1;32mif\u001b[0m \u001b[0mnum\u001b[0m \u001b[1;33m%\u001b[0m \u001b[1;36m2\u001b[0m \u001b[1;33m==\u001b[0m \u001b[1;36m0\u001b[0m\u001b[1;33m:\u001b[0m\u001b[1;33m\u001b[0m\u001b[1;33m\u001b[0m\u001b[0m\n\u001b[0m\u001b[0;32m      3\u001b[0m         \u001b[1;32mreturn\u001b[0m \u001b[1;32mTrue\u001b[0m\u001b[1;33m\u001b[0m\u001b[1;33m\u001b[0m\u001b[0m\n\u001b[0;32m      4\u001b[0m     \u001b[1;32melif\u001b[0m \u001b[0mnum\u001b[0m \u001b[1;33m%\u001b[0m \u001b[1;36m2\u001b[0m \u001b[1;33m>\u001b[0m\u001b[1;36m0\u001b[0m\u001b[1;33m:\u001b[0m\u001b[1;33m\u001b[0m\u001b[1;33m\u001b[0m\u001b[0m\n\u001b[0;32m      5\u001b[0m         \u001b[1;32mreturn\u001b[0m \u001b[1;32mFalse\u001b[0m\u001b[1;33m\u001b[0m\u001b[1;33m\u001b[0m\u001b[0m\n",
      "\u001b[1;31mTypeError\u001b[0m: unsupported operand type(s) for %: 'NoneType' and 'int'"
     ]
    }
   ],
   "source": [
    "def is_even(num):\n",
    "    if num % 2 == 0:\n",
    "        return True\n",
    "    elif num % 2 >0:\n",
    "        return False\n",
    "    else:\n",
    "        raise TypeError()\n",
    "        \n",
    "num= None\n",
    "is_even(num)"
   ]
  },
  {
   "cell_type": "markdown",
   "id": "b5b7f3fd",
   "metadata": {},
   "source": [
    "## car_at_light"
   ]
  },
  {
   "cell_type": "code",
   "execution_count": 21,
   "id": "592b5f8e",
   "metadata": {},
   "outputs": [
    {
     "ename": "Exception",
     "evalue": "Not a valid color.",
     "output_type": "error",
     "traceback": [
      "\u001b[1;31m---------------------------------------------------------------------------\u001b[0m",
      "\u001b[1;31mException\u001b[0m                                 Traceback (most recent call last)",
      "\u001b[1;32m~\\AppData\\Local\\Temp\\ipykernel_25632\\1165924806.py\u001b[0m in \u001b[0;36m<module>\u001b[1;34m\u001b[0m\n\u001b[0;32m     10\u001b[0m \u001b[1;33m\u001b[0m\u001b[0m\n\u001b[0;32m     11\u001b[0m \u001b[0mlight\u001b[0m \u001b[1;33m=\u001b[0m \u001b[1;36m8\u001b[0m\u001b[1;33m\u001b[0m\u001b[1;33m\u001b[0m\u001b[0m\n\u001b[1;32m---> 12\u001b[1;33m \u001b[0mcar_at_light\u001b[0m\u001b[1;33m(\u001b[0m\u001b[0mlight\u001b[0m\u001b[1;33m)\u001b[0m\u001b[1;33m\u001b[0m\u001b[1;33m\u001b[0m\u001b[0m\n\u001b[0m",
      "\u001b[1;32m~\\AppData\\Local\\Temp\\ipykernel_25632\\1165924806.py\u001b[0m in \u001b[0;36mcar_at_light\u001b[1;34m(light)\u001b[0m\n\u001b[0;32m      7\u001b[0m         \u001b[1;32mreturn\u001b[0m\u001b[1;33m(\u001b[0m\u001b[1;34m\"wait\"\u001b[0m\u001b[1;33m)\u001b[0m\u001b[1;33m\u001b[0m\u001b[1;33m\u001b[0m\u001b[0m\n\u001b[0;32m      8\u001b[0m     \u001b[1;32melse\u001b[0m\u001b[1;33m:\u001b[0m\u001b[1;33m\u001b[0m\u001b[1;33m\u001b[0m\u001b[0m\n\u001b[1;32m----> 9\u001b[1;33m         \u001b[1;32mraise\u001b[0m \u001b[0mException\u001b[0m\u001b[1;33m(\u001b[0m\u001b[1;34m\"Not a valid color.\"\u001b[0m\u001b[1;33m)\u001b[0m\u001b[1;33m\u001b[0m\u001b[1;33m\u001b[0m\u001b[0m\n\u001b[0m\u001b[0;32m     10\u001b[0m \u001b[1;33m\u001b[0m\u001b[0m\n\u001b[0;32m     11\u001b[0m \u001b[0mlight\u001b[0m \u001b[1;33m=\u001b[0m \u001b[1;36m8\u001b[0m\u001b[1;33m\u001b[0m\u001b[1;33m\u001b[0m\u001b[0m\n",
      "\u001b[1;31mException\u001b[0m: Not a valid color."
     ]
    }
   ],
   "source": [
    "def car_at_light(light):\n",
    "    if light==\"red\":\n",
    "        return(\"stop\")\n",
    "    elif light==\"green\":\n",
    "        return(\"go\")\n",
    "    elif light==\"yellow\":\n",
    "        return(\"wait\")\n",
    "    else:\n",
    "        raise Exception(\"Not a valid color.\")\n",
    "        \n",
    "light = 8\n",
    "car_at_light(light)"
   ]
  },
  {
   "cell_type": "markdown",
   "id": "7fced70b",
   "metadata": {},
   "source": [
    "## is_cold "
   ]
  },
  {
   "cell_type": "code",
   "execution_count": 27,
   "id": "cc5385a8",
   "metadata": {},
   "outputs": [
    {
     "data": {
      "text/plain": [
       "False"
      ]
     },
     "execution_count": 27,
     "metadata": {},
     "output_type": "execute_result"
    }
   ],
   "source": [
    "def is_cold(temp):\n",
    "        if type(temp) == int:\n",
    "            return temp <= 15\n",
    "        else:\n",
    "            raise Exception(\"temperature must be a number\")\n",
    "            \n",
    "is_cold(90)"
   ]
  },
  {
   "cell_type": "markdown",
   "id": "66303734",
   "metadata": {},
   "source": [
    "## wear_sweater"
   ]
  },
  {
   "cell_type": "code",
   "execution_count": 36,
   "id": "a2ecfa50",
   "metadata": {},
   "outputs": [
    {
     "data": {
      "text/plain": [
       "False"
      ]
     },
     "execution_count": 36,
     "metadata": {},
     "output_type": "execute_result"
    }
   ],
   "source": [
    "def wear_sweater(temp, friolera):\n",
    "    if is_cold(temp) is False:\n",
    "        return False\n",
    "        if friolera is True or None:\n",
    "            return True\n",
    "    else:\n",
    "        return False\n",
    "        \n",
    "    \n",
    "wear_sweater(10, False)"
   ]
  },
  {
   "cell_type": "code",
   "execution_count": null,
   "id": "0049ac76",
   "metadata": {},
   "outputs": [],
   "source": [
    "  return False\n",
    "    elif is_cold(temp) is True and friolera is None or True:\n",
    "        return True\n",
    "    elif is_cold(temp) is True and friolera is False:\n",
    "        return Fal"
   ]
  },
  {
   "cell_type": "markdown",
   "id": "76c443c9",
   "metadata": {},
   "source": [
    "## equality"
   ]
  },
  {
   "cell_type": "code",
   "execution_count": 54,
   "id": "59118bef",
   "metadata": {},
   "outputs": [
    {
     "data": {
      "text/plain": [
       "'nothing is equal'"
      ]
     },
     "execution_count": 54,
     "metadata": {},
     "output_type": "execute_result"
    }
   ],
   "source": [
    "def equality(x, y, z):\n",
    "    if x == y == z:\n",
    "        return(\"all are equal\")\n",
    "    elif x == y != z:\n",
    "        return(\"x and y are equal\")\n",
    "    elif x == z != y:\n",
    "        return(\"z and x are equal\")\n",
    "    elif y == z != x:\n",
    "        return(\"y and z are equal\")\n",
    "    else:\n",
    "        return(\"nothing is equal\")\n",
    "    \n",
    "x= 7\n",
    "y= 9\n",
    "z= 8\n",
    "equality(x, y, z)"
   ]
  },
  {
   "cell_type": "code",
   "execution_count": 59,
   "id": "5a5a142f",
   "metadata": {},
   "outputs": [
    {
     "data": {
      "text/plain": [
       "'Sofia'"
      ]
     },
     "execution_count": 59,
     "metadata": {},
     "output_type": "execute_result"
    }
   ],
   "source": [
    "def driver_seat(distance, is_manual):\n",
    "    if is_manual == True:\n",
    "        return(\"Sofia\")\n",
    "    elif is_manual == False and distance >= 11:\n",
    "        return(\"Sofia\")\n",
    "    else:\n",
    "        return(\"Diego\")\n",
    "    \n",
    "distance= 11\n",
    "is_manual= False\n",
    "driver_seat(distance, is_manual)"
   ]
  }
 ],
 "metadata": {
  "kernelspec": {
   "display_name": "Python 3 (ipykernel)",
   "language": "python",
   "name": "python3"
  },
  "language_info": {
   "codemirror_mode": {
    "name": "ipython",
    "version": 3
   },
   "file_extension": ".py",
   "mimetype": "text/x-python",
   "name": "python",
   "nbconvert_exporter": "python",
   "pygments_lexer": "ipython3",
   "version": "3.9.13"
  }
 },
 "nbformat": 4,
 "nbformat_minor": 5
}
