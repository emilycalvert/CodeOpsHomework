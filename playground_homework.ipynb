{
 "cells": [
  {
   "cell_type": "markdown",
   "id": "22a34ddb",
   "metadata": {},
   "source": [
    "## List"
   ]
  },
  {
   "cell_type": "code",
   "execution_count": 121,
   "id": "cbe9d71b",
   "metadata": {},
   "outputs": [],
   "source": [
    "colors = ['red', 'orange', 'yellow', 'green', 'blue', 'indigo', 'violet']"
   ]
  },
  {
   "cell_type": "code",
   "execution_count": null,
   "id": "2fa8293c",
   "metadata": {},
   "outputs": [],
   "source": [
    "#TODO: Print the 3rd colour in the list.\n"
   ]
  },
  {
   "cell_type": "code",
   "execution_count": 4,
   "id": "3665a7ea",
   "metadata": {},
   "outputs": [
    {
     "name": "stdout",
     "output_type": "stream",
     "text": [
      "yellow\n"
     ]
    }
   ],
   "source": [
    "print(colors[2])"
   ]
  },
  {
   "cell_type": "code",
   "execution_count": null,
   "id": "86237b9e",
   "metadata": {},
   "outputs": [],
   "source": [
    "#TODO: Change the colour indigo to pink.\n"
   ]
  },
  {
   "cell_type": "code",
   "execution_count": 6,
   "id": "0c633eec",
   "metadata": {},
   "outputs": [
    {
     "name": "stdout",
     "output_type": "stream",
     "text": [
      "['red', 'orange', 'yellow', 'green', 'blue', 'pink', 'violet']\n"
     ]
    }
   ],
   "source": [
    "colors[-2]= 'pink'\n",
    "print(colors)"
   ]
  },
  {
   "cell_type": "code",
   "execution_count": null,
   "id": "4f065b60",
   "metadata": {},
   "outputs": [],
   "source": [
    "#TODO: Print the first 3 elements of the list.\n"
   ]
  },
  {
   "cell_type": "code",
   "execution_count": 7,
   "id": "7304f2f3",
   "metadata": {},
   "outputs": [
    {
     "name": "stdout",
     "output_type": "stream",
     "text": [
      "['red', 'orange', 'yellow']\n"
     ]
    }
   ],
   "source": [
    "print(colors[:3])"
   ]
  },
  {
   "cell_type": "code",
   "execution_count": null,
   "id": "5690bd6f",
   "metadata": {},
   "outputs": [],
   "source": [
    "#TODO: Create a loop that prints each of the item in the list."
   ]
  },
  {
   "cell_type": "code",
   "execution_count": 9,
   "id": "662c5a76",
   "metadata": {},
   "outputs": [
    {
     "name": "stdout",
     "output_type": "stream",
     "text": [
      "red\n",
      "orange\n",
      "yellow\n",
      "green\n",
      "blue\n",
      "pink\n",
      "violet\n"
     ]
    }
   ],
   "source": [
    "thisloop= [print(x) for x in colors]"
   ]
  },
  {
   "cell_type": "code",
   "execution_count": 106,
   "id": "f7aa94fc",
   "metadata": {},
   "outputs": [
    {
     "data": {
      "text/plain": [
       "['rainbow red',\n",
       " 'rainbow orange',\n",
       " 'rainbow yellow',\n",
       " 'rainbow green',\n",
       " 'rainbow blue',\n",
       " 'rainbow indigo',\n",
       " 'rainbow violet']"
      ]
     },
     "execution_count": 106,
     "metadata": {},
     "output_type": "execute_result"
    }
   ],
   "source": [
    "def add_rainbow(colors):\n",
    "    rainbow= []\n",
    "    for y in colors:\n",
    "        x = (\"rainbow \"+ str(y))\n",
    "        rainbow.append(x)\n",
    "    return rainbow\n",
    "\n",
    "add_rainbow(colors)\n",
    "        "
   ]
  },
  {
   "cell_type": "code",
   "execution_count": null,
   "id": "8932f6cd",
   "metadata": {},
   "outputs": [],
   "source": [
    "# TODO: Use the list above to create a list that contains only the statement, \"blue as the sky blue\""
   ]
  },
  {
   "cell_type": "code",
   "execution_count": 125,
   "id": "98f03797",
   "metadata": {},
   "outputs": [
    {
     "name": "stdout",
     "output_type": "stream",
     "text": [
      "['blue', 'as', 'the', 'sky', 'blue']\n"
     ]
    }
   ],
   "source": [
    "colors[0]= \"blue\"\n",
    "colors[1]= \"as\"\n",
    "colors[2]= \"the\"\n",
    "colors[3]= \"sky\"\n",
    "colors[4]=\"blue\"\n",
    "print(colors[:-2])\n"
   ]
  },
  {
   "cell_type": "code",
   "execution_count": 14,
   "id": "6e04eea8",
   "metadata": {},
   "outputs": [
    {
     "name": "stdout",
     "output_type": "stream",
     "text": [
      "[0, 7, 14, 21, 35]\n"
     ]
    }
   ],
   "source": [
    "# TODO: Use list comprehension to multiply each number by 7.\n",
    "num = [0, 1, 2, 3, 5]\n",
    "new_num= [x*7 for x in num]\n",
    "print(new_num)"
   ]
  },
  {
   "cell_type": "markdown",
   "id": "dfc85ff2",
   "metadata": {},
   "source": [
    "# Tuples"
   ]
  },
  {
   "cell_type": "code",
   "execution_count": 20,
   "id": "d85453af",
   "metadata": {},
   "outputs": [],
   "source": [
    "fruituple = (\"apple\", \"banana\", \"cherry\", \"grapes\", \"chocolate\", \"papapaya\")"
   ]
  },
  {
   "cell_type": "code",
   "execution_count": 23,
   "id": "a956233f",
   "metadata": {},
   "outputs": [
    {
     "name": "stdout",
     "output_type": "stream",
     "text": [
      "chocolate\n"
     ]
    }
   ],
   "source": [
    "# TODO: Print the odd one out without writing the word.\n",
    "\n",
    "print(fruituple[4])"
   ]
  },
  {
   "cell_type": "markdown",
   "id": "55986786",
   "metadata": {},
   "source": [
    "# Dictionaries"
   ]
  },
  {
   "cell_type": "code",
   "execution_count": 25,
   "id": "56a1caa4",
   "metadata": {},
   "outputs": [],
   "source": [
    "pet = {\n",
    "    \"pet_name\": \"Chewy\",\n",
    "    \"fave_food\": \"pizza\",\n",
    "    \"color\": \"brown\",\n",
    "    \"enjoys\": \"chasing postmen\"\n",
    "}"
   ]
  },
  {
   "cell_type": "code",
   "execution_count": 26,
   "id": "6009def8",
   "metadata": {},
   "outputs": [
    {
     "data": {
      "text/plain": [
       "'Chewy'"
      ]
     },
     "execution_count": 26,
     "metadata": {},
     "output_type": "execute_result"
    }
   ],
   "source": [
    "# TODO: Print out the pet's name without putting \"Chewy\" in your print statement\n",
    "pet['pet_name']"
   ]
  },
  {
   "cell_type": "code",
   "execution_count": 35,
   "id": "2e27d2e8",
   "metadata": {},
   "outputs": [
    {
     "name": "stdout",
     "output_type": "stream",
     "text": [
      "brown\n",
      "Chewy\n"
     ]
    }
   ],
   "source": [
    "# TODO: Print out brown Chewy without putting these words in the print statement.\n",
    "print(pet['color'])\n",
    "print(pet['pet_name'])"
   ]
  },
  {
   "cell_type": "code",
   "execution_count": 46,
   "id": "d1ffe334",
   "metadata": {},
   "outputs": [
    {
     "data": {
      "text/plain": [
       "'purple'"
      ]
     },
     "execution_count": 46,
     "metadata": {},
     "output_type": "execute_result"
    }
   ],
   "source": [
    "# TODO: Chewy decided to have a new do. He's dyed his fur purple. Change Chewy's color to purple.\n",
    "pet['color']= 'purple'\n",
    "pet['color']"
   ]
  },
  {
   "cell_type": "code",
   "execution_count": 40,
   "id": "d88816a9",
   "metadata": {},
   "outputs": [
    {
     "data": {
      "text/plain": [
       "'tofu'"
      ]
     },
     "execution_count": 40,
     "metadata": {},
     "output_type": "execute_result"
    }
   ],
   "source": [
    "# TODO: Chewy has gotten into the health craze. He's now a vegan dog and now loves tofu.\n",
    "# Change Chewy's favourite food to tofu. \n",
    "pet['food']= 'tofu'\n",
    "pet['food']"
   ]
  },
  {
   "cell_type": "code",
   "execution_count": 47,
   "id": "9d36835c",
   "metadata": {},
   "outputs": [
    {
     "name": "stdout",
     "output_type": "stream",
     "text": [
      "['Chewy', 'pizza', 'purple', 'chasing postmen', 'tofu']\n"
     ]
    }
   ],
   "source": [
    "# Loop through the dictionary to print all of the pet's qualities.\n",
    "print([pet[x] for x in pet])"
   ]
  },
  {
   "cell_type": "markdown",
   "id": "e6949294",
   "metadata": {},
   "source": [
    "# Loops"
   ]
  },
  {
   "cell_type": "markdown",
   "id": "d5e581e1",
   "metadata": {},
   "source": [
    "[How to use Range](https://www.w3schools.com/python/ref_func_range.asp)"
   ]
  },
  {
   "cell_type": "code",
   "execution_count": 49,
   "id": "fae25439",
   "metadata": {},
   "outputs": [
    {
     "name": "stdout",
     "output_type": "stream",
     "text": [
      "[0, 1, 2, 3, 4, 5, 6, 7, 8, 9, 10]\n"
     ]
    }
   ],
   "source": [
    "# TODO: Use a loop to print the numbers 1 to 10. \n",
    "print([x for x in range(11)])"
   ]
  },
  {
   "cell_type": "code",
   "execution_count": 50,
   "id": "7131f4b2",
   "metadata": {},
   "outputs": [
    {
     "name": "stdout",
     "output_type": "stream",
     "text": [
      "[0, 1, 2, 3, 4, 5, 6, 7, 8, 9, 10, 11, 12, 13, 14, 15, 16, 17, 18, 19, 20, 21, 22, 23, 24, 25, 26, 27, 28, 29, 30, 31, 32, 33, 34, 35, 36, 37, 38, 39, 40, 41, 42, 43, 44, 45, 46, 47, 48, 49, 50]\n"
     ]
    }
   ],
   "source": [
    "# TODO: Create a loop that prints the number 0 - 50.\n",
    "print([x for x in range(51)])"
   ]
  },
  {
   "cell_type": "code",
   "execution_count": 67,
   "id": "7e55e928",
   "metadata": {},
   "outputs": [
    {
     "ename": "SyntaxError",
     "evalue": "invalid syntax (3840261980.py, line 4)",
     "output_type": "error",
     "traceback": [
      "\u001b[1;36m  File \u001b[1;32m\"C:\\Users\\calve\\AppData\\Local\\Temp\\ipykernel_29488\\3840261980.py\"\u001b[1;36m, line \u001b[1;32m4\u001b[0m\n\u001b[1;33m    if x == 0 for y in x: print(x + \"is even\") else print(x + \"is odd\")\u001b[0m\n\u001b[1;37m              ^\u001b[0m\n\u001b[1;31mSyntaxError\u001b[0m\u001b[1;31m:\u001b[0m invalid syntax\n"
     ]
    }
   ],
   "source": [
    "*****# TODO: Create a loop that: \n",
    "# prints statement \"... is even\" for even numbers and \"...is odd\"for odd numbers\n",
    "x= [range(10) % 2]\n",
    "if x == 0 for y in x: print(x + \"is even\") else print(x + \"is odd\")"
   ]
  },
  {
   "cell_type": "code",
   "execution_count": null,
   "id": "bcf02604",
   "metadata": {},
   "outputs": [],
   "source": [
    "# TODO: \n",
    "# print all the numbers from 1 to 100.\n",
    "# Now, for all numbers divisible by 3,\n",
    "# print \"Fizz\" instead of the number.\n",
    "# For numbers divisible by 5,\n",
    "# print \"Buzz\" instead.\n",
    "# For numbers divisible by BOTH 5 & 3, \n",
    "# print \"FizzBuzz\"."
   ]
  },
  {
   "cell_type": "code",
   "execution_count": 187,
   "id": "3ee9d777",
   "metadata": {},
   "outputs": [
    {
     "name": "stdout",
     "output_type": "stream",
     "text": [
      "FizzBuzz\n",
      "1\n",
      "2\n",
      "FizzBuzz\n",
      "4\n",
      "Buzz\n",
      "FizzBuzz\n",
      "7\n",
      "8\n",
      "FizzBuzz\n",
      "Buzz\n",
      "11\n",
      "FizzBuzz\n",
      "13\n",
      "14\n",
      "FizzBuzz\n",
      "16\n",
      "17\n",
      "FizzBuzz\n",
      "19\n",
      "Buzz\n",
      "FizzBuzz\n",
      "22\n",
      "23\n",
      "FizzBuzz\n",
      "Buzz\n",
      "26\n",
      "FizzBuzz\n",
      "28\n",
      "29\n",
      "FizzBuzz\n",
      "31\n",
      "32\n",
      "FizzBuzz\n",
      "34\n",
      "Buzz\n",
      "FizzBuzz\n",
      "37\n",
      "38\n",
      "FizzBuzz\n",
      "Buzz\n",
      "41\n",
      "FizzBuzz\n",
      "43\n",
      "44\n",
      "FizzBuzz\n",
      "46\n",
      "47\n",
      "FizzBuzz\n",
      "49\n",
      "Buzz\n",
      "FizzBuzz\n",
      "52\n",
      "53\n",
      "FizzBuzz\n",
      "Buzz\n",
      "56\n",
      "FizzBuzz\n",
      "58\n",
      "59\n",
      "FizzBuzz\n",
      "61\n",
      "62\n",
      "FizzBuzz\n",
      "64\n",
      "Buzz\n",
      "FizzBuzz\n",
      "67\n",
      "68\n",
      "FizzBuzz\n",
      "Buzz\n",
      "71\n",
      "FizzBuzz\n",
      "73\n",
      "74\n",
      "FizzBuzz\n",
      "76\n",
      "77\n",
      "FizzBuzz\n",
      "79\n",
      "Buzz\n",
      "FizzBuzz\n",
      "82\n",
      "83\n",
      "FizzBuzz\n",
      "Buzz\n",
      "86\n",
      "FizzBuzz\n",
      "88\n",
      "89\n",
      "FizzBuzz\n",
      "91\n",
      "92\n",
      "FizzBuzz\n",
      "94\n",
      "Buzz\n",
      "FizzBuzz\n",
      "97\n",
      "98\n",
      "FizzBuzz\n",
      "Buzz\n"
     ]
    }
   ],
   "source": [
    "def fizzbuzz():\n",
    "    for x in range(101):\n",
    "        if x % 3 == 0 & x % 5 == 0:\n",
    "            print('FizzBuzz')\n",
    "        elif x % 3 == 0:    \n",
    "            print('Fizz')\n",
    "        elif x % 5 == 0:\n",
    "            print('Buzz')\n",
    "        else:\n",
    "            print(x)\n",
    "            \n",
    "fizzbuzz()"
   ]
  },
  {
   "cell_type": "markdown",
   "id": "2a92a85f",
   "metadata": {},
   "source": [
    "# Challenge..."
   ]
  },
  {
   "cell_type": "code",
   "execution_count": 212,
   "id": "2998329d",
   "metadata": {},
   "outputs": [],
   "source": [
    "friends = [\n",
    "  {\n",
    "    \"name\": \"Pedro\",\n",
    "    \"relationship\": \"school\",\n",
    "    \"age\": 30\n",
    "  },\n",
    "  {\n",
    "    \"name\": \"Sofia\",\n",
    "    \"relationship\": \"work\",\n",
    "    \"age\": 38\n",
    "  },\n",
    "  {\n",
    "    \"name\": \"Mia\",\n",
    "    \"relationship\": \"school\",\n",
    "    \"age\": 40\n",
    "  },\n",
    "  {\n",
    "    \"name\": \"Lucy\",\n",
    "    \"relationship\": \"work\",\n",
    "    \"age\": 27\n",
    "  }\n",
    "]"
   ]
  },
  {
   "cell_type": "code",
   "execution_count": 213,
   "id": "17048666",
   "metadata": {},
   "outputs": [],
   "source": [
    "# TODO: Print the names of all the friends"
   ]
  },
  {
   "cell_type": "code",
   "execution_count": 214,
   "id": "38e91912",
   "metadata": {},
   "outputs": [
    {
     "name": "stdout",
     "output_type": "stream",
     "text": [
      "Pedro\n",
      "Sofia\n",
      "Mia\n",
      "Lucy\n"
     ]
    }
   ],
   "source": [
    "for x in friends:\n",
    "    print(x['name'])"
   ]
  },
  {
   "cell_type": "code",
   "execution_count": 215,
   "id": "3835faa8",
   "metadata": {},
   "outputs": [],
   "source": [
    "# TODO: Print the relationship of all the friends"
   ]
  },
  {
   "cell_type": "code",
   "execution_count": 216,
   "id": "10286aa1",
   "metadata": {},
   "outputs": [
    {
     "name": "stdout",
     "output_type": "stream",
     "text": [
      "school\n",
      "work\n",
      "school\n",
      "work\n"
     ]
    }
   ],
   "source": [
    "for x in friends:\n",
    "    print(x['relationship'])"
   ]
  },
  {
   "cell_type": "code",
   "execution_count": 217,
   "id": "38ba95ae",
   "metadata": {},
   "outputs": [],
   "source": [
    "# TODO: Add 1 to the age of all the friends."
   ]
  },
  {
   "cell_type": "code",
   "execution_count": 218,
   "id": "8036872d",
   "metadata": {},
   "outputs": [
    {
     "name": "stdout",
     "output_type": "stream",
     "text": [
      "[{'name': 'Pedro', 'relationship': 'school', 'age': 31}, {'name': 'Sofia', 'relationship': 'work', 'age': 39}, {'name': 'Mia', 'relationship': 'school', 'age': 41}, {'name': 'Lucy', 'relationship': 'work', 'age': 28}]\n"
     ]
    }
   ],
   "source": [
    "for x in friends:\n",
    "    age= x['age']\n",
    "    x['age']= age + 1\n",
    "    \n",
    "print(friends)"
   ]
  },
  {
   "cell_type": "code",
   "execution_count": null,
   "id": "1d5bc27e",
   "metadata": {},
   "outputs": [],
   "source": [
    "# TODO: Who is the oldest. Use a loop to print out the name of the oldest person."
   ]
  },
  {
   "cell_type": "code",
   "execution_count": 385,
   "id": "f033ca4c",
   "metadata": {},
   "outputs": [
    {
     "data": {
      "text/plain": [
       "'Mia'"
      ]
     },
     "execution_count": 385,
     "metadata": {},
     "output_type": "execute_result"
    }
   ],
   "source": [
    "def oldest(friends):\n",
    "    age= []\n",
    "    index= []\n",
    "    for x in friends:\n",
    "        z= x['name'], x['age']\n",
    "        age.append(z)\n",
    "    return age[2][0]\n",
    "    \n",
    "\n",
    "oldest(friends)"
   ]
  }
 ],
 "metadata": {
  "kernelspec": {
   "display_name": "Python 3 (ipykernel)",
   "language": "python",
   "name": "python3"
  },
  "language_info": {
   "codemirror_mode": {
    "name": "ipython",
    "version": 3
   },
   "file_extension": ".py",
   "mimetype": "text/x-python",
   "name": "python",
   "nbconvert_exporter": "python",
   "pygments_lexer": "ipython3",
   "version": "3.9.13"
  }
 },
 "nbformat": 4,
 "nbformat_minor": 5
}
