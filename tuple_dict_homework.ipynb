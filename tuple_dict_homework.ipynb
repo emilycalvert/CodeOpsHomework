{
 "cells": [
  {
   "cell_type": "code",
   "execution_count": null,
   "metadata": {
    "colab": {
     "base_uri": "https://localhost:8080/"
    },
    "id": "lkH0VP7b2Peb",
    "outputId": "b6d27e88-be40-4bc2-ade2-48cc1e227a32"
   },
   "outputs": [
    {
     "name": "stdout",
     "output_type": "stream",
     "text": [
      "{'player1': {'score': [], 'level': [], 'avatar': []}, 'player2': {'score': [], 'level': [], 'avatar': []}, 'player3': {'score': [], 'level': [], 'avatar': []}, 'player4': {'score': [], 'level': [], 'avatar': []}, 'player5': {'score': [], 'level': [], 'avatar': []}}\n"
     ]
    },
    {
     "data": {
      "text/plain": [
       "dict"
      ]
     },
     "execution_count": 13,
     "metadata": {},
     "output_type": "execute_result"
    }
   ],
   "source": [
    "players= ['player1', 'player2', 'player3', 'player4', 'player5']\n",
    "keys= ['score', 'level', 'avatar']\n",
    "scoreboard= {player:{key: [] for key in keys} for player in players}\n",
    "type(scoreboard)"
   ]
  },
  {
   "cell_type": "markdown",
   "metadata": {
    "id": "6CmDLk7TC_Ep"
   },
   "source": [
    "Auto-populate dict with accumulating list appending and loops. try just using list comprehension running the dictionary! simple two liners- new dictionary!"
   ]
  },
  {
   "cell_type": "markdown",
   "metadata": {},
   "source": [
    "Possible edits- initialize values and replace, remove defs outside the functions"
   ]
  },
  {
   "cell_type": "code",
   "execution_count": 138,
   "metadata": {
    "id": "X2sC95K02X_b"
   },
   "outputs": [],
   "source": [
    "scoreboard={'player1': {'score': 100, 'level': 1, 'country': 'Spain'}, 'player2': {'score': 200, 'level': 2, 'country': 'USA'}, 'player3': {'score': 300, 'level': 3, 'country': 'Germany'}, 'player4': {'score': 400, 'level': 4, 'country': 'Mexico'}, 'player5': {'score': 500, 'level': 5, 'country': 'Portugal'}}"
   ]
  },
  {
   "cell_type": "code",
   "execution_count": 139,
   "metadata": {},
   "outputs": [
    {
     "data": {
      "text/plain": [
       "dict_keys(['player1', 'player2', 'player3', 'player4', 'player5'])"
      ]
     },
     "execution_count": 139,
     "metadata": {},
     "output_type": "execute_result"
    }
   ],
   "source": [
    "scoreboard.keys()"
   ]
  },
  {
   "cell_type": "code",
   "execution_count": 140,
   "metadata": {},
   "outputs": [
    {
     "data": {
      "text/plain": [
       "{'score': 100, 'level': 1, 'country': 'Spain'}"
      ]
     },
     "execution_count": 140,
     "metadata": {},
     "output_type": "execute_result"
    }
   ],
   "source": [
    "scoreboard['player1']"
   ]
  },
  {
   "cell_type": "code",
   "execution_count": 141,
   "metadata": {},
   "outputs": [
    {
     "data": {
      "text/plain": [
       "100"
      ]
     },
     "execution_count": 141,
     "metadata": {},
     "output_type": "execute_result"
    }
   ],
   "source": [
    "scoreboard['player1']['score']"
   ]
  },
  {
   "cell_type": "markdown",
   "metadata": {
    "id": "TFGMYr0gr077"
   },
   "source": [
    "Top Score"
   ]
  },
  {
   "cell_type": "markdown",
   "metadata": {
    "id": "7R6RO_XOrAx4"
   },
   "source": [
    "ALL CREDIT FOR TOP SCORE GOES TO LAURA. I had forgotten about accumulation as the way to get your function to keep iterating. So based on her help with top score I was able to do the rest of the assignments."
   ]
  },
  {
   "cell_type": "code",
   "execution_count": null,
   "metadata": {
    "colab": {
     "base_uri": "https://localhost:8080/"
    },
    "id": "z79PU9Zr41CS",
    "outputId": "db1db846-aa36-4ef2-b636-f550a0915bfa"
   },
   "outputs": [
    {
     "data": {
      "text/plain": [
       "500"
      ]
     },
     "execution_count": 4,
     "metadata": {},
     "output_type": "execute_result"
    }
   ],
   "source": [
    "#Written by Laura\n",
    "\n",
    "def top_score(scoreboard):\n",
    "  score_list = [] #I created this list to store all 'score' values; later, I'll sort them out from small to big\n",
    "  for x in scoreboard:\n",
    "    new= scoreboard[x] #So new, in the first instance, is {'score': 100, 'level': 1, 'avatar': True}\n",
    "    score_list.append(new['score']) #We are adding the value 100 to the empty list\n",
    "  score_list.sort() #After the loop is done, we sort the list\n",
    "  return score_list[-1] #The list is sorted from small to big by default, so I'll pick the last number (i.e. biggest) to be shown\n",
    "\n",
    "top_score(scoreboard)"
   ]
  },
  {
   "cell_type": "markdown",
   "metadata": {
    "id": "XtCHGUoOr6qE"
   },
   "source": [
    "Get Scores"
   ]
  },
  {
   "cell_type": "code",
   "execution_count": 5,
   "metadata": {
    "colab": {
     "base_uri": "https://localhost:8080/"
    },
    "id": "8IRcF_A82eYm",
    "outputId": "f4c0c9a7-bc90-4e48-998f-6d64cf3aa926"
   },
   "outputs": [
    {
     "data": {
      "text/plain": [
       "[100, 200, 300, 400, 500]"
      ]
     },
     "execution_count": 5,
     "metadata": {},
     "output_type": "execute_result"
    }
   ],
   "source": [
    "def get_scores(scoreboard):\n",
    "    score_list = []\n",
    "    for x in scoreboard:\n",
    "      new= scoreboard[x]\n",
    "      score_list.append(new['score'])\n",
    "    return score_list\n",
    "\n",
    "get_scores(scoreboard)"
   ]
  },
  {
   "cell_type": "markdown",
   "metadata": {
    "id": "miHQIvMOr8Hi"
   },
   "source": [
    "Top Player"
   ]
  },
  {
   "cell_type": "code",
   "execution_count": 131,
   "metadata": {
    "colab": {
     "base_uri": "https://localhost:8080/",
     "height": 36
    },
    "id": "AVI52cFLC6kq",
    "outputId": "08a3e0d4-7201-4f12-af22-2a76967ef92c"
   },
   "outputs": [
    {
     "data": {
      "text/plain": [
       "'player5'"
      ]
     },
     "execution_count": 131,
     "metadata": {},
     "output_type": "execute_result"
    }
   ],
   "source": [
    "def merge(players, score_list):\n",
    "      merged_list= [(players[x], score_list[x]) for x in range(0, len(players))]\n",
    "      return merged_list\n",
    "\n",
    "def top_player(scoreboard):\n",
    "    players= []\n",
    "    score_list = []\n",
    "    for x in scoreboard:\n",
    "      players.append(x)\n",
    "    for x in scoreboard:\n",
    "      new= scoreboard[x]\n",
    "      score_list.append(new['score'])\n",
    "    \n",
    "    merged_list= merge(players, score_list)\n",
    "\n",
    "    for x in merged_list:\n",
    "      merged_list.sort()\n",
    "    return merged_list[-1][-2]\n",
    "\n",
    "\n",
    "top_player(scoreboard)"
   ]
  },
  {
   "cell_type": "markdown",
   "metadata": {
    "id": "1WHpFmbKCSPj"
   },
   "source": [
    "Top Player From Dict"
   ]
  },
  {
   "cell_type": "markdown",
   "metadata": {
    "colab": {
     "base_uri": "https://localhost:8080/",
     "height": 330
    },
    "id": "iXT5utIPDiJH",
    "outputId": "480b8698-4cdd-4e5e-857d-dee132a50f38"
   },
   "source": [
    "I hate programming at this moment."
   ]
  },
  {
   "cell_type": "markdown",
   "metadata": {
    "id": "l1_6qXtCB7A8"
   },
   "source": [
    "Get Good Players- get it to return playerx in scoreboard and not a concatenate"
   ]
  },
  {
   "cell_type": "code",
   "execution_count": 132,
   "metadata": {
    "colab": {
     "base_uri": "https://localhost:8080/"
    },
    "id": "pWERLbNtDlgB",
    "outputId": "1dfea782-08bb-4fd4-fdf9-801d26a6da87"
   },
   "outputs": [
    {
     "data": {
      "text/plain": [
       "[('player1', 200), ('player2', 300), ('player3', 400), ('player4', 500)]"
      ]
     },
     "execution_count": 132,
     "metadata": {},
     "output_type": "execute_result"
    }
   ],
   "source": [
    "limit= 200\n",
    "\n",
    "def merge(player, good_player):\n",
    "    merged_list= [(player[x], good_player[x]) for x in range(0, len(player))]\n",
    "    return merged_list\n",
    "\n",
    "def get_good_players(scoreboard, limit):\n",
    "  good_players= []\n",
    "  score_list= []\n",
    "  for x in scoreboard:\n",
    "    score_list.append(scoreboard[x])\n",
    "    new= scoreboard[x]\n",
    "    score_list.append(new['score'])\n",
    "  for x in score_list:\n",
    "    if type(x) == int and x >= limit:\n",
    "      good_players.append(x)\n",
    "  player= []\n",
    "  for x in good_players:\n",
    "     x= good_players.index(x)\n",
    "     x= str(x+1)\n",
    "     player.append('player' + x)\n",
    "\n",
    "  merged_list= merge(player, good_players)\n",
    "  merged_list.sort()\n",
    "    \n",
    "    \n",
    "  return merged_list\n",
    "\n",
    "      \n",
    "\n",
    "get_good_players(scoreboard, limit)"
   ]
  },
  {
   "cell_type": "markdown",
   "metadata": {
    "id": "huko6GWlPkKa"
   },
   "source": [
    "By Country: Written by flatmate, but he didn't bother explaining it to me -_-  Wish I understood cause then I could use it for all the other functions."
   ]
  },
  {
   "cell_type": "code",
   "execution_count": 140,
   "metadata": {
    "colab": {
     "base_uri": "https://localhost:8080/"
    },
    "id": "WtrsXb2VLu2p",
    "outputId": "604c5667-fe73-4346-af73-61c3763892ba"
   },
   "outputs": [
    {
     "data": {
      "text/plain": [
       "('player1', 100, 1, 'Spain')"
      ]
     },
     "execution_count": 140,
     "metadata": {},
     "output_type": "execute_result"
    }
   ],
   "source": [
    "by_country = lambda country,scoreboard: {x:y for x,y in scoreboard.items() if y['country'] == country}\n",
    "top_by_country = lambda country, scoreboard: sorted([tuple([x, *list(y.values())]) for x,y in by_country(country, scoreboard).items()], key = lambda x: x[1])[0]\n",
    "top_by_country(\"Spain\", scoreboard)"
   ]
  },
  {
   "cell_type": "code",
   "execution_count": 137,
   "metadata": {
    "colab": {
     "base_uri": "https://localhost:8080/",
     "height": 36
    },
    "id": "eYEHldJhD_nm",
    "outputId": "319819e1-c73e-4057-fde0-57d579a85d3c"
   },
   "outputs": [
    {
     "data": {
      "text/plain": [
       "('player5', 5)"
      ]
     },
     "execution_count": 137,
     "metadata": {},
     "output_type": "execute_result"
    }
   ],
   "source": [
    "def merge(players, levels):\n",
    "    merged_list= [(players[x], levels[x]) for x in range(0, len(players))]\n",
    "    return merged_list\n",
    "\n",
    "def most_levels_played(scoreboard):\n",
    "    players= []\n",
    "    levels = []\n",
    "    for x in scoreboard:\n",
    "      players.append(x)\n",
    "    for x in scoreboard:\n",
    "      new= scoreboard[x]\n",
    "      levels.append(new['level'])\n",
    "\n",
    "    merged_list= merge(players, levels)\n",
    "\n",
    "    for x in merged_list:\n",
    "      merged_list.sort()\n",
    "    return merged_list[-1]\n",
    "\n",
    "\n",
    "most_levels_played(scoreboard)\n",
    "  "
   ]
  },
  {
   "cell_type": "code",
   "execution_count": 134,
   "metadata": {
    "colab": {
     "base_uri": "https://localhost:8080/"
    },
    "id": "JAgTE5a6ED_z",
    "outputId": "f6aade63-f380-492b-8181-1ba8918bb6c9"
   },
   "outputs": [
    {
     "data": {
      "text/plain": [
       "[('player1', 1),\n",
       " ('player2', 2),\n",
       " ('player3', 3),\n",
       " ('player4', 4),\n",
       " ('player5', 5)]"
      ]
     },
     "execution_count": 134,
     "metadata": {},
     "output_type": "execute_result"
    }
   ],
   "source": [
    "def merge(players, levels):\n",
    "    merged_list= [(players[x], levels[x]) for x in range(0, len(players))]\n",
    "    return merged_list\n",
    "\n",
    "def played_levels(scoreboard):\n",
    "    players= []\n",
    "    levels = []\n",
    "    for x in scoreboard:\n",
    "      players.append(x)\n",
    "    for x in scoreboard:\n",
    "      new= scoreboard[x]\n",
    "      levels.append(new['level'])\n",
    "    \n",
    "    merged_list= merge(players, levels)\n",
    "    return merged_list\n",
    "\n",
    "\n",
    "played_levels(scoreboard)"
   ]
  }
 ],
 "metadata": {
  "colab": {
   "provenance": []
  },
  "kernelspec": {
   "display_name": "Python 3 (ipykernel)",
   "language": "python",
   "name": "python3"
  },
  "language_info": {
   "codemirror_mode": {
    "name": "ipython",
    "version": 3
   },
   "file_extension": ".py",
   "mimetype": "text/x-python",
   "name": "python",
   "nbconvert_exporter": "python",
   "pygments_lexer": "ipython3",
   "version": "3.9.13"
  }
 },
 "nbformat": 4,
 "nbformat_minor": 1
}
