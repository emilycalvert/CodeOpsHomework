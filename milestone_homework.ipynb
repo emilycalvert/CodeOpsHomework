{
 "cells": [
  {
   "cell_type": "markdown",
   "id": "6c08e9df",
   "metadata": {},
   "source": [
    "Count"
   ]
  },
  {
   "cell_type": "code",
   "execution_count": 8,
   "id": "641064e6",
   "metadata": {},
   "outputs": [
    {
     "name": "stdout",
     "output_type": "stream",
     "text": [
      "[0, 1, 2, 3, 4, 5, 6, 7, 8, 9, 10, 11, 12, 13, 14, 15, 16, 17, 18, 19, 20]\n"
     ]
    }
   ],
   "source": [
    "def count(int):\n",
    "    print([x for x in range(int + 1)])\n",
    "\n",
    "count(20)"
   ]
  },
  {
   "cell_type": "markdown",
   "id": "e7d078a0",
   "metadata": {},
   "source": [
    "Count Build"
   ]
  },
  {
   "cell_type": "code",
   "execution_count": 15,
   "id": "ea149ea2",
   "metadata": {},
   "outputs": [
    {
     "name": "stdout",
     "output_type": "stream",
     "text": [
      "[0]\n",
      "[0, 1]\n",
      "[0, 1, 2]\n",
      "[0, 1, 2, 3]\n",
      "[0, 1, 2, 3, 4]\n",
      "[0, 1, 2, 3, 4, 5]\n",
      "[0, 1, 2, 3, 4, 5, 6]\n",
      "[0, 1, 2, 3, 4, 5, 6, 7]\n",
      "[0, 1, 2, 3, 4, 5, 6, 7, 8]\n",
      "[0, 1, 2, 3, 4, 5, 6, 7, 8, 9]\n",
      "[0, 1, 2, 3, 4, 5, 6, 7, 8, 9, 10]\n",
      "[0, 1, 2, 3, 4, 5, 6, 7, 8, 9, 10, 11]\n",
      "[0, 1, 2, 3, 4, 5, 6, 7, 8, 9, 10, 11, 12]\n",
      "[0, 1, 2, 3, 4, 5, 6, 7, 8, 9, 10, 11, 12, 13]\n",
      "[0, 1, 2, 3, 4, 5, 6, 7, 8, 9, 10, 11, 12, 13, 14]\n",
      "[0, 1, 2, 3, 4, 5, 6, 7, 8, 9, 10, 11, 12, 13, 14, 15]\n",
      "[0, 1, 2, 3, 4, 5, 6, 7, 8, 9, 10, 11, 12, 13, 14, 15, 16]\n",
      "[0, 1, 2, 3, 4, 5, 6, 7, 8, 9, 10, 11, 12, 13, 14, 15, 16, 17]\n",
      "[0, 1, 2, 3, 4, 5, 6, 7, 8, 9, 10, 11, 12, 13, 14, 15, 16, 17, 18]\n",
      "[0, 1, 2, 3, 4, 5, 6, 7, 8, 9, 10, 11, 12, 13, 14, 15, 16, 17, 18, 19]\n",
      "[0, 1, 2, 3, 4, 5, 6, 7, 8, 9, 10, 11, 12, 13, 14, 15, 16, 17, 18, 19, 20]\n",
      "[0, 1, 2, 3, 4, 5, 6, 7, 8, 9, 10, 11, 12, 13, 14, 15, 16, 17, 18, 19, 20, 21]\n"
     ]
    }
   ],
   "source": [
    "def count_build(int):\n",
    "    nums= []\n",
    "    for x in range(int +1):\n",
    "        nums.append(x)\n",
    "        print(nums)\n",
    "            \n",
    "count_build(21)"
   ]
  },
  {
   "cell_type": "markdown",
   "id": "4c1de425",
   "metadata": {},
   "source": [
    "Element Search***"
   ]
  },
  {
   "cell_type": "code",
   "execution_count": 55,
   "id": "f8b996cf",
   "metadata": {},
   "outputs": [
    {
     "data": {
      "text/plain": [
       "True"
      ]
     },
     "execution_count": 55,
     "metadata": {},
     "output_type": "execute_result"
    }
   ],
   "source": [
    "def element_search(words, element):\n",
    "    for x in words:\n",
    "        if len(element) == len(x):\n",
    "            x is True\n",
    "        else:\n",
    "            x is False\n",
    "            return bool(words)\n",
    "\n",
    "\n",
    "words=['dog', 'cat', 'elephant', 'bear', 'snake']\n",
    "element='big'\n",
    "element_search(words, element)"
   ]
  },
  {
   "cell_type": "markdown",
   "id": "83c14144",
   "metadata": {},
   "source": [
    "List Overlap"
   ]
  },
  {
   "cell_type": "code",
   "execution_count": 66,
   "id": "a77cc83d",
   "metadata": {},
   "outputs": [
    {
     "data": {
      "text/plain": [
       "[2, 3, 4]"
      ]
     },
     "execution_count": 66,
     "metadata": {},
     "output_type": "execute_result"
    }
   ],
   "source": [
    "def list_overlap(a, b):\n",
    "    new_list= []\n",
    "    for x in a:\n",
    "        for y in b:\n",
    "            if x == y:\n",
    "                new_list.append(x)\n",
    "            else:\n",
    "                pass\n",
    "    return new_list\n",
    "            \n",
    "a= [1, 2, 3, 4, 5]\n",
    "b= [2, 3, 4]\n",
    "list_overlap(a, b)"
   ]
  },
  {
   "cell_type": "markdown",
   "id": "27ca31e9",
   "metadata": {},
   "source": [
    "Palindrome****"
   ]
  },
  {
   "cell_type": "code",
   "execution_count": 119,
   "id": "72e3f25e",
   "metadata": {},
   "outputs": [
    {
     "name": "stdout",
     "output_type": "stream",
     "text": [
      "It is a palindrome.\n"
     ]
    }
   ],
   "source": [
    "def palindrome(a):\n",
    "    z= str(a)\n",
    "    y= [*z]\n",
    "    b= y[::-1]\n",
    "    if y == b:\n",
    "        print('It is a palindrome.')\n",
    "    \n",
    "        \n",
    "    \n",
    "a= 12321\n",
    "palindrome(a)"
   ]
  },
  {
   "cell_type": "markdown",
   "id": "71bb1276",
   "metadata": {},
   "source": [
    "Birthday Dictionary"
   ]
  },
  {
   "cell_type": "code",
   "execution_count": 80,
   "id": "0e07aa98",
   "metadata": {},
   "outputs": [],
   "source": [
    "birthdays= {\"Nas\":\"May 31\", \"Laura\":\"Sep 13\", \"Emily\":\"Oct 2\", \"Shandy\":\"Sep 26\", \"Claudia\":\"Oct 27\", \"Helena\":\"May 20\", \"Rita\":\"March 11\", \"Sophie\":\"April 3\", \"Lina\":\"May 27\", \"Daniella\":\"Aug 21\"}"
   ]
  },
  {
   "cell_type": "code",
   "execution_count": 83,
   "id": "0ef73768",
   "metadata": {},
   "outputs": [
    {
     "data": {
      "text/plain": [
       "{'Nas': 'May 31',\n",
       " 'Laura': 'Sep 13',\n",
       " 'Emily': 'Oct 2',\n",
       " 'Shandy': 'Sep 26',\n",
       " 'Claudia': 'Oct 27',\n",
       " 'Helena': 'May 20',\n",
       " 'Rita': 'March 11',\n",
       " 'Sophie': 'April 3',\n",
       " 'Lina': 'May 27',\n",
       " 'Daniella': 'Aug 21'}"
      ]
     },
     "execution_count": 83,
     "metadata": {},
     "output_type": "execute_result"
    }
   ],
   "source": [
    "birthdays"
   ]
  },
  {
   "cell_type": "markdown",
   "id": "e27382fc",
   "metadata": {},
   "source": [
    "Birthdays JSON"
   ]
  },
  {
   "cell_type": "code",
   "execution_count": 84,
   "id": "fc8090b6",
   "metadata": {},
   "outputs": [],
   "source": [
    "import json"
   ]
  },
  {
   "cell_type": "code",
   "execution_count": 85,
   "id": "7e4730bc",
   "metadata": {},
   "outputs": [],
   "source": [
    "jsonBirthday= json.dumps(birthdays)"
   ]
  },
  {
   "cell_type": "code",
   "execution_count": 86,
   "id": "444a6725",
   "metadata": {},
   "outputs": [
    {
     "name": "stdout",
     "output_type": "stream",
     "text": [
      "<class 'str'>\n"
     ]
    }
   ],
   "source": [
    "print(type(jsonBirthday))"
   ]
  },
  {
   "cell_type": "code",
   "execution_count": 87,
   "id": "43f80fd2",
   "metadata": {},
   "outputs": [
    {
     "name": "stdout",
     "output_type": "stream",
     "text": [
      "{\"Nas\": \"May 31\", \"Laura\": \"Sep 13\", \"Emily\": \"Oct 2\", \"Shandy\": \"Sep 26\", \"Claudia\": \"Oct 27\", \"Helena\": \"May 20\", \"Rita\": \"March 11\", \"Sophie\": \"April 3\", \"Lina\": \"May 27\", \"Daniella\": \"Aug 21\"}\n"
     ]
    }
   ],
   "source": [
    "print(jsonBirthday)"
   ]
  },
  {
   "cell_type": "markdown",
   "id": "dfe4e4df",
   "metadata": {},
   "source": [
    "CVs"
   ]
  },
  {
   "cell_type": "code",
   "execution_count": 177,
   "id": "7cd673c8",
   "metadata": {},
   "outputs": [],
   "source": [
    "cvs = [{'user': 'foo', 'jobs': ['data monkey', 'copyist', 'wrecking ball operator']},\n",
    "       {'user': 'bar', 'jobs': ['wrecking ball operator', 'poet']},\n",
    "       {'user': 'baz', 'jobs': ['dancer', 'waitstaff']},\n",
    "       {'user': 'qux', 'jobs': ['wrecking ball operator', 'waitstaff']}]"
   ]
  },
  {
   "cell_type": "markdown",
   "id": "6c45d6f2",
   "metadata": {},
   "source": [
    "Has Experience As"
   ]
  },
  {
   "cell_type": "code",
   "execution_count": 178,
   "id": "72eed249",
   "metadata": {},
   "outputs": [
    {
     "data": {
      "text/plain": [
       "['baz', 'qux']"
      ]
     },
     "execution_count": 178,
     "metadata": {},
     "output_type": "execute_result"
    }
   ],
   "source": [
    "def has_experience(cvs, y):\n",
    "    users= []\n",
    "    for x in cvs:\n",
    "        for z in x['jobs']:\n",
    "            if z == y:\n",
    "                users.append(x['user'])\n",
    "    return users\n",
    "   \n",
    "y= 'waitstaff'\n",
    "has_experience(cvs, y)"
   ]
  },
  {
   "cell_type": "markdown",
   "id": "9529ddcd",
   "metadata": {},
   "source": [
    "Job Count"
   ]
  },
  {
   "cell_type": "code",
   "execution_count": 218,
   "id": "dacb005e",
   "metadata": {},
   "outputs": [
    {
     "data": {
      "text/plain": [
       "{'data monkey': 1,\n",
       " 'copyist': 1,\n",
       " 'wrecking ball operator': 3,\n",
       " 'poet': 1,\n",
       " 'dancer': 1,\n",
       " 'waitstaff': 2}"
      ]
     },
     "execution_count": 218,
     "metadata": {},
     "output_type": "execute_result"
    }
   ],
   "source": [
    "import operator\n",
    "\n",
    "cvs = [{'user': 'foo', 'jobs': ['data monkey', 'copyist', 'wrecking ball operator']},\n",
    "       {'user': 'bar', 'jobs': ['wrecking ball operator', 'poet']},\n",
    "       {'user': 'baz', 'jobs': ['dancer', 'waitstaff']},\n",
    "       {'user': 'qux', 'jobs': ['wrecking ball operator', 'waitstaff']}]\n",
    "\n",
    "def job_count(cvs):\n",
    "    jobs= []\n",
    "    for x in cvs:\n",
    "        for z in x['jobs']:\n",
    "            jobs.append(z)\n",
    "    new= []\n",
    "    for y in jobs:\n",
    "        r= operator.countOf(jobs,y)\n",
    "        new.append(r)\n",
    "    \n",
    "    d= {}\n",
    "    for q in jobs:\n",
    "        for e in new:\n",
    "            d[q] = e\n",
    "            new.remove(e)\n",
    "            break\n",
    "    \n",
    "    return d\n",
    " \n",
    "        \n",
    "job_count(cvs)\n",
    "    "
   ]
  },
  {
   "cell_type": "markdown",
   "id": "3913caac",
   "metadata": {},
   "source": [
    "Bonus Probem"
   ]
  },
  {
   "cell_type": "code",
   "execution_count": null,
   "id": "8afa8786",
   "metadata": {},
   "outputs": [],
   "source": []
  }
 ],
 "metadata": {
  "kernelspec": {
   "display_name": "Python 3 (ipykernel)",
   "language": "python",
   "name": "python3"
  },
  "language_info": {
   "codemirror_mode": {
    "name": "ipython",
    "version": 3
   },
   "file_extension": ".py",
   "mimetype": "text/x-python",
   "name": "python",
   "nbconvert_exporter": "python",
   "pygments_lexer": "ipython3",
   "version": "3.9.13"
  }
 },
 "nbformat": 4,
 "nbformat_minor": 5
}
