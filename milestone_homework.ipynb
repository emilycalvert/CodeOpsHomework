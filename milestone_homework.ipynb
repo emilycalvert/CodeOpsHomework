{
 "cells": [
  {
   "cell_type": "markdown",
   "id": "6c08e9df",
   "metadata": {},
   "source": [
    "Count"
   ]
  },
  {
   "cell_type": "code",
   "execution_count": 2,
   "id": "641064e6",
   "metadata": {},
   "outputs": [
    {
     "name": "stdout",
     "output_type": "stream",
     "text": [
      "[0, 1, 2, 3, 4, 5, 6, 7, 8, 9]\n",
      "[0, 1, 2, 3, 4, 5, 6, 7, 8, 9, 10, 11, 12, 13, 14, 15, 16, 17, 18, 19, 20, 21, 22, 23, 24, 25, 26, 27, 28, 29, 30, 31, 32, 33, 34, 35, 36, 37, 38, 39, 40, 41, 42, 43, 44, 45, 46, 47, 48, 49, 50, 51, 52, 53, 54, 55, 56, 57, 58, 59, 60]\n"
     ]
    }
   ],
   "source": [
    "def count(int):\n",
    "    print([x for x in range(int + 1)])\n",
    "\n",
    "count(9)"
   ]
  },
  {
   "cell_type": "markdown",
   "id": "e7d078a0",
   "metadata": {},
   "source": [
    "Count Build"
   ]
  },
  {
   "cell_type": "code",
   "execution_count": 5,
   "id": "ea149ea2",
   "metadata": {},
   "outputs": [
    {
     "name": "stdout",
     "output_type": "stream",
     "text": [
      "[0]\n",
      "[0, 1]\n",
      "[0, 1, 2]\n",
      "[0, 1, 2, 3]\n",
      "[0, 1, 2, 3, 4]\n",
      "[0, 1, 2, 3, 4, 5]\n",
      "[0, 1, 2, 3, 4, 5, 6]\n",
      "[0, 1, 2, 3, 4, 5, 6, 7]\n",
      "[0, 1, 2, 3, 4, 5, 6, 7, 8]\n",
      "[0, 1, 2, 3, 4, 5, 6, 7, 8, 9]\n",
      "[0, 1, 2, 3, 4, 5, 6, 7, 8, 9, 10]\n",
      "[0, 1, 2, 3, 4, 5, 6, 7, 8, 9, 10, 11]\n",
      "[0, 1, 2, 3, 4, 5, 6, 7, 8, 9, 10, 11, 12]\n",
      "[0, 1, 2, 3, 4, 5, 6, 7, 8, 9, 10, 11, 12, 13]\n",
      "[0, 1, 2, 3, 4, 5, 6, 7, 8, 9, 10, 11, 12, 13, 14]\n",
      "[0, 1, 2, 3, 4, 5, 6, 7, 8, 9, 10, 11, 12, 13, 14, 15]\n",
      "[0, 1, 2, 3, 4, 5, 6, 7, 8, 9, 10, 11, 12, 13, 14, 15, 16]\n",
      "[0, 1, 2, 3, 4, 5, 6, 7, 8, 9, 10, 11, 12, 13, 14, 15, 16, 17]\n",
      "[0, 1, 2, 3, 4, 5, 6, 7, 8, 9, 10, 11, 12, 13, 14, 15, 16, 17, 18]\n",
      "[0, 1, 2, 3, 4, 5, 6, 7, 8, 9, 10, 11, 12, 13, 14, 15, 16, 17, 18, 19]\n",
      "[0, 1, 2, 3, 4, 5, 6, 7, 8, 9, 10, 11, 12, 13, 14, 15, 16, 17, 18, 19, 20]\n"
     ]
    }
   ],
   "source": [
    "def count_build(int):\n",
    "    nums= []\n",
    "    for x in range(int +1):\n",
    "        nums.append(x)\n",
    "        print(nums)\n",
    "            \n",
    "count_build(20)"
   ]
  },
  {
   "cell_type": "markdown",
   "id": "4c1de425",
   "metadata": {},
   "source": [
    "Element Search"
   ]
  },
  {
   "cell_type": "code",
   "execution_count": 28,
   "id": "f8b996cf",
   "metadata": {},
   "outputs": [
    {
     "data": {
      "text/plain": [
       "False"
      ]
     },
     "execution_count": 28,
     "metadata": {},
     "output_type": "execute_result"
    }
   ],
   "source": [
    "def element_search(words, element):\n",
    "    return element in words\n",
    "\n",
    "\n",
    "words= ['dog', 'cat', 'elephant', 'bear', 'snake']\n",
    "element='boo'\n",
    "element_search(words, element)"
   ]
  },
  {
   "cell_type": "code",
   "execution_count": 11,
   "id": "eb62e39a",
   "metadata": {},
   "outputs": [
    {
     "data": {
      "text/plain": [
       "True"
      ]
     },
     "execution_count": 11,
     "metadata": {},
     "output_type": "execute_result"
    }
   ],
   "source": [
    "'cat' in ['dog', 'cat', 'elephant', 'bear', 'snake']"
   ]
  },
  {
   "cell_type": "code",
   "execution_count": 12,
   "id": "83486e2e",
   "metadata": {},
   "outputs": [
    {
     "data": {
      "text/plain": [
       "False"
      ]
     },
     "execution_count": 12,
     "metadata": {},
     "output_type": "execute_result"
    }
   ],
   "source": [
    "'tooth' in ['dog', 'cat', 'elephant', 'bear', 'snake']"
   ]
  },
  {
   "cell_type": "markdown",
   "id": "83c14144",
   "metadata": {},
   "source": [
    "List Overlap"
   ]
  },
  {
   "cell_type": "code",
   "execution_count": 43,
   "id": "cd88e244",
   "metadata": {},
   "outputs": [
    {
     "data": {
      "text/plain": [
       "[1, 2, 3, 5, 8, 13]"
      ]
     },
     "execution_count": 43,
     "metadata": {},
     "output_type": "execute_result"
    }
   ],
   "source": [
    "def list_overlap(a, b):\n",
    "    new_list= []\n",
    "    for x in a:\n",
    "        for y in b:\n",
    "            if x == y:\n",
    "                if y not in new_list:\n",
    "                    new_list.append(y)\n",
    "    return new_list\n",
    "\n",
    "\n",
    "a= [1, 2, 3, 4, 5, 6, 7, 8, 9, 10, 11, 12, 13]\n",
    "b= [1, 1, 2, 3, 5, 8, 13, 21, 34, 55, 89]\n",
    "list_overlap(a, b)"
   ]
  },
  {
   "cell_type": "markdown",
   "id": "27ca31e9",
   "metadata": {},
   "source": [
    "Palindrome"
   ]
  },
  {
   "cell_type": "code",
   "execution_count": 10,
   "id": "75fde46e",
   "metadata": {},
   "outputs": [
    {
     "data": {
      "text/plain": [
       "True"
      ]
     },
     "execution_count": 10,
     "metadata": {},
     "output_type": "execute_result"
    }
   ],
   "source": [
    "def palindrome(num):\n",
    "    return str(num) == str(num)[::-1]\n",
    "\n",
    "palindrome(202)"
   ]
  },
  {
   "cell_type": "markdown",
   "id": "71bb1276",
   "metadata": {},
   "source": [
    "Birthday Dictionary"
   ]
  },
  {
   "cell_type": "code",
   "execution_count": 83,
   "id": "0ef73768",
   "metadata": {},
   "outputs": [
    {
     "data": {
      "text/plain": [
       "{'Nas': 'May 31',\n",
       " 'Laura': 'Sep 13',\n",
       " 'Emily': 'Oct 2',\n",
       " 'Shandy': 'Sep 26',\n",
       " 'Claudia': 'Oct 27',\n",
       " 'Helena': 'May 20',\n",
       " 'Rita': 'March 11',\n",
       " 'Sophie': 'April 3',\n",
       " 'Lina': 'May 27',\n",
       " 'Daniella': 'Aug 21'}"
      ]
     },
     "execution_count": 83,
     "metadata": {},
     "output_type": "execute_result"
    }
   ],
   "source": [
    "birthdays"
   ]
  },
  {
   "cell_type": "code",
   "execution_count": 12,
   "id": "2d5dccc1",
   "metadata": {},
   "outputs": [],
   "source": [
    "birthdays= {\"Emily\": \"Oct 2\", \"Nas\": \"May 31\", \"Brandon\": \"Feb 11\", \"Nandan\": \"May 5\"}"
   ]
  },
  {
   "cell_type": "markdown",
   "id": "e27382fc",
   "metadata": {},
   "source": [
    "Birthdays JSON"
   ]
  },
  {
   "cell_type": "code",
   "execution_count": 4,
   "id": "fc8090b6",
   "metadata": {},
   "outputs": [],
   "source": [
    "import json"
   ]
  },
  {
   "cell_type": "code",
   "execution_count": 16,
   "id": "7e4730bc",
   "metadata": {},
   "outputs": [],
   "source": [
    "jsonBirthday= json.dumps(birthdays, indent= 2)"
   ]
  },
  {
   "cell_type": "code",
   "execution_count": 17,
   "id": "444a6725",
   "metadata": {},
   "outputs": [
    {
     "name": "stdout",
     "output_type": "stream",
     "text": [
      "<class 'str'>\n"
     ]
    }
   ],
   "source": [
    "print(type(jsonBirthday))"
   ]
  },
  {
   "cell_type": "code",
   "execution_count": 18,
   "id": "43f80fd2",
   "metadata": {},
   "outputs": [
    {
     "name": "stdout",
     "output_type": "stream",
     "text": [
      "{\n",
      "  \"Emily\": \"Oct 2\",\n",
      "  \"Nas\": \"May 31\",\n",
      "  \"Brandon\": \"Feb 11\",\n",
      "  \"Nandan\": \"May 5\"\n",
      "}\n"
     ]
    }
   ],
   "source": [
    "print(jsonBirthday)"
   ]
  },
  {
   "cell_type": "markdown",
   "id": "dfe4e4df",
   "metadata": {},
   "source": [
    "CVs"
   ]
  },
  {
   "cell_type": "code",
   "execution_count": 177,
   "id": "7cd673c8",
   "metadata": {},
   "outputs": [],
   "source": [
    "cvs = [{'user': 'foo', 'jobs': ['data monkey', 'copyist', 'wrecking ball operator']},\n",
    "       {'user': 'bar', 'jobs': ['wrecking ball operator', 'poet']},\n",
    "       {'user': 'baz', 'jobs': ['dancer', 'waitstaff']},\n",
    "       {'user': 'qux', 'jobs': ['wrecking ball operator', 'waitstaff']}]"
   ]
  },
  {
   "cell_type": "markdown",
   "id": "6c45d6f2",
   "metadata": {},
   "source": [
    "Has Experience As"
   ]
  },
  {
   "cell_type": "code",
   "execution_count": 178,
   "id": "72eed249",
   "metadata": {},
   "outputs": [
    {
     "data": {
      "text/plain": [
       "['baz', 'qux']"
      ]
     },
     "execution_count": 178,
     "metadata": {},
     "output_type": "execute_result"
    }
   ],
   "source": [
    "def has_experience(cvs, y):\n",
    "    users= []\n",
    "    for x in cvs:\n",
    "        for z in x['jobs']:\n",
    "            if z == y:\n",
    "                users.append(x['user'])\n",
    "    return users\n",
    "   \n",
    "y= 'waitstaff'\n",
    "has_experience(cvs, y)"
   ]
  },
  {
   "cell_type": "markdown",
   "id": "9529ddcd",
   "metadata": {},
   "source": [
    "Job Count"
   ]
  },
  {
   "cell_type": "code",
   "execution_count": 218,
   "id": "dacb005e",
   "metadata": {},
   "outputs": [
    {
     "data": {
      "text/plain": [
       "{'data monkey': 1,\n",
       " 'copyist': 1,\n",
       " 'wrecking ball operator': 3,\n",
       " 'poet': 1,\n",
       " 'dancer': 1,\n",
       " 'waitstaff': 2}"
      ]
     },
     "execution_count": 218,
     "metadata": {},
     "output_type": "execute_result"
    }
   ],
   "source": [
    "import operator\n",
    "\n",
    "cvs = [{'user': 'foo', 'jobs': ['data monkey', 'copyist', 'wrecking ball operator']},\n",
    "       {'user': 'bar', 'jobs': ['wrecking ball operator', 'poet']},\n",
    "       {'user': 'baz', 'jobs': ['dancer', 'waitstaff']},\n",
    "       {'user': 'qux', 'jobs': ['wrecking ball operator', 'waitstaff']}]\n",
    "\n",
    "def job_count(cvs):\n",
    "    jobs= []\n",
    "    for x in cvs:\n",
    "        for z in x['jobs']:\n",
    "            jobs.append(z)\n",
    "    new= []\n",
    "    for y in jobs:\n",
    "        r= operator.countOf(jobs,y)\n",
    "        new.append(r)\n",
    "    \n",
    "    d= {}\n",
    "    for q in jobs:\n",
    "        for e in new:\n",
    "            d[q] = e\n",
    "            new.remove(e)\n",
    "            break\n",
    "    \n",
    "    return d\n",
    " \n",
    "        \n",
    "job_count(cvs)\n",
    "    "
   ]
  },
  {
   "cell_type": "markdown",
   "id": "32673d0e",
   "metadata": {},
   "source": [
    "Bonus Problem"
   ]
  },
  {
   "cell_type": "code",
   "execution_count": 7,
   "id": "d9f662b5",
   "metadata": {},
   "outputs": [],
   "source": [
    "import math\n",
    "import numpy as np"
   ]
  },
  {
   "cell_type": "code",
   "execution_count": 5,
   "id": "9f3a5371",
   "metadata": {},
   "outputs": [
    {
     "name": "stdout",
     "output_type": "stream",
     "text": [
      "78.53981633974483\n"
     ]
    }
   ],
   "source": [
    "r= 5\n",
    "area_circle= math.pi * (r**2)\n",
    "print(area_circle)"
   ]
  },
  {
   "cell_type": "code",
   "execution_count": 9,
   "id": "25cc4810",
   "metadata": {},
   "outputs": [
    {
     "name": "stdout",
     "output_type": "stream",
     "text": [
      "3.605551275463989\n"
     ]
    }
   ],
   "source": [
    "a= 2\n",
    "b= 3\n",
    "hypotenuse= np.sqrt(a**2 + b**2)\n",
    "print(hypotenuse)"
   ]
  },
  {
   "cell_type": "code",
   "execution_count": null,
   "id": "3cc594d9",
   "metadata": {},
   "outputs": [],
   "source": []
  }
 ],
 "metadata": {
  "kernelspec": {
   "display_name": "Python 3 (ipykernel)",
   "language": "python",
   "name": "python3"
  },
  "language_info": {
   "codemirror_mode": {
    "name": "ipython",
    "version": 3
   },
   "file_extension": ".py",
   "mimetype": "text/x-python",
   "name": "python",
   "nbconvert_exporter": "python",
   "pygments_lexer": "ipython3",
   "version": "3.9.13"
  }
 },
 "nbformat": 4,
 "nbformat_minor": 5
}
