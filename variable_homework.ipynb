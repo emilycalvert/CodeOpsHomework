{
 "cells": [
  {
   "cell_type": "markdown",
   "id": "f22b03ba",
   "metadata": {},
   "source": [
    "# Variable, Functions, Exceptions Homework"
   ]
  },
  {
   "cell_type": "markdown",
   "id": "58162ed5",
   "metadata": {},
   "source": [
    "## Print"
   ]
  },
  {
   "cell_type": "code",
   "execution_count": 1,
   "id": "86385401",
   "metadata": {},
   "outputs": [
    {
     "name": "stdout",
     "output_type": "stream",
     "text": [
      "This is Emily's assignment.\n"
     ]
    }
   ],
   "source": [
    "print(\"This is Emily's assignment.\")"
   ]
  },
  {
   "cell_type": "markdown",
   "id": "6ac79b4f",
   "metadata": {},
   "source": [
    "## Part 1: Variables"
   ]
  },
  {
   "cell_type": "markdown",
   "id": "4cfcd02d",
   "metadata": {},
   "source": [
    "### 1.1"
   ]
  },
  {
   "cell_type": "code",
   "execution_count": 2,
   "id": "c91d013b",
   "metadata": {},
   "outputs": [
    {
     "name": "stdout",
     "output_type": "stream",
     "text": [
      "10\n",
      "10\n"
     ]
    }
   ],
   "source": [
    "x= 7 + 3\n",
    "print(x)\n",
    "x= 5 * 2\n",
    "print(x)"
   ]
  },
  {
   "cell_type": "markdown",
   "id": "9bbeb87e",
   "metadata": {},
   "source": [
    "### 1.2"
   ]
  },
  {
   "cell_type": "code",
   "execution_count": 3,
   "id": "3cb13c2f",
   "metadata": {},
   "outputs": [
    {
     "name": "stdout",
     "output_type": "stream",
     "text": [
      "7 should equal 7\n"
     ]
    }
   ],
   "source": [
    "print(3 + 4, \"should equal 7\")"
   ]
  },
  {
   "cell_type": "markdown",
   "id": "4a16f56c",
   "metadata": {},
   "source": [
    "### 1.3"
   ]
  },
  {
   "cell_type": "code",
   "execution_count": 5,
   "id": "0db65a55",
   "metadata": {},
   "outputs": [
    {
     "name": "stdout",
     "output_type": "stream",
     "text": [
      "Emily Elizabeth Calvert \n"
     ]
    }
   ],
   "source": [
    "a= \"Emily \"\n",
    "b= \"Elizabeth \"\n",
    "c= \"Calvert \"\n",
    "print(a + b + c)"
   ]
  },
  {
   "cell_type": "markdown",
   "id": "baf75b78",
   "metadata": {},
   "source": [
    "### 1.4"
   ]
  },
  {
   "cell_type": "code",
   "execution_count": 6,
   "id": "50b19b6a",
   "metadata": {},
   "outputs": [
    {
     "name": "stdout",
     "output_type": "stream",
     "text": [
      "1\n",
      "X is odd\n"
     ]
    }
   ],
   "source": [
    "x= 5 % 2\n",
    "print(x)\n",
    "if x > 0:\n",
    "    print(\"X is odd\")\n",
    "else:\n",
    "    print(\"X is even\")"
   ]
  },
  {
   "cell_type": "markdown",
   "id": "7df8d0ad",
   "metadata": {},
   "source": [
    "### 1.5"
   ]
  },
  {
   "cell_type": "code",
   "execution_count": 8,
   "id": "7da7a84f",
   "metadata": {},
   "outputs": [
    {
     "name": "stdout",
     "output_type": "stream",
     "text": [
      "Mia is in jail.\n"
     ]
    }
   ],
   "source": [
    "name = 'Mia'\n",
    "current_location = 'school'\n",
    "current_location = 'jail'\n",
    "print(name + \" is in \" + current_location + \".\")"
   ]
  },
  {
   "cell_type": "markdown",
   "id": "327b5bb2",
   "metadata": {},
   "source": [
    "### 1.6"
   ]
  },
  {
   "cell_type": "code",
   "execution_count": 9,
   "id": "f40e664b",
   "metadata": {},
   "outputs": [
    {
     "name": "stdout",
     "output_type": "stream",
     "text": [
      "Emily  went to  Thai Thai  to eat  curry.\n"
     ]
    }
   ],
   "source": [
    "person = \"Emily \"\n",
    "place = \" Thai Thai \"\n",
    "food = \" curry.\"\n",
    "print(person, \"went to\", place, \"to eat\", food)"
   ]
  },
  {
   "cell_type": "markdown",
   "id": "29a5a68e",
   "metadata": {},
   "source": [
    "### 1.7"
   ]
  },
  {
   "cell_type": "code",
   "execution_count": 10,
   "id": "767a4cc4",
   "metadata": {},
   "outputs": [
    {
     "name": "stdout",
     "output_type": "stream",
     "text": [
      "Aaron  went to  Shogun  to eat  sushi.\n"
     ]
    }
   ],
   "source": [
    "person = \"Aaron \"\n",
    "place = \" Shogun \"\n",
    "food = \" sushi.\"\n",
    "print(person, \"went to\", place, \"to eat\", food)"
   ]
  },
  {
   "cell_type": "markdown",
   "id": "16b77f06",
   "metadata": {},
   "source": [
    "### 1.8"
   ]
  },
  {
   "cell_type": "code",
   "execution_count": 12,
   "id": "dee023b0",
   "metadata": {},
   "outputs": [
    {
     "name": "stdout",
     "output_type": "stream",
     "text": [
      "0\n",
      "1\n",
      "2\n",
      "4\n"
     ]
    }
   ],
   "source": [
    "count = 0\n",
    "print(count)\n",
    "count = count + 1\n",
    "print(count)\n",
    "count += 1\n",
    "print(count)\n",
    "count += count\n",
    "print(count)"
   ]
  },
  {
   "cell_type": "markdown",
   "id": "f8211a29",
   "metadata": {},
   "source": [
    "As you can see, this code kept reassigning the value of count to reflect the additions. The last instance basically multiplied count by 2."
   ]
  },
  {
   "cell_type": "markdown",
   "id": "f87688a6",
   "metadata": {},
   "source": [
    "### 1.9"
   ]
  },
  {
   "cell_type": "code",
   "execution_count": 19,
   "id": "2ad9ed8e",
   "metadata": {},
   "outputs": [
    {
     "name": "stdout",
     "output_type": "stream",
     "text": [
      "BEFORE > a is: 1 - and b is:  2\n",
      "AFTER > a: 2 should be 2 - and b: 1 should be 1\n"
     ]
    }
   ],
   "source": [
    "a, aa = 1, 1\n",
    "b = 2\n",
    "print('BEFORE > a is:', a, '- and b is: ', b)\n",
    "a = b\n",
    "b = aa\n",
    "\n",
    "print('AFTER > a:', a, 'should be 2 - and b:', b, 'should be 1')"
   ]
  },
  {
   "cell_type": "markdown",
   "id": "cf99674b",
   "metadata": {},
   "source": [
    "### 1.10"
   ]
  },
  {
   "cell_type": "code",
   "execution_count": 25,
   "id": "7d7899e1",
   "metadata": {},
   "outputs": [
    {
     "name": "stdout",
     "output_type": "stream",
     "text": [
      "False should be True\n",
      "True should be True\n",
      "True should be True\n",
      "True should be True\n",
      "True should be True\n"
     ]
    }
   ],
   "source": [
    "print(3 == '3', 'should be True')\n",
    "print(3 == 3, 'should be True')\n",
    "print('3' == '3', 'should be True')\n",
    "a = str(3)\n",
    "b = '3'\n",
    "print(a == b, 'should be True')\n",
    "a = int('3')\n",
    "b = 3\n",
    "print(a == b, 'should be True')"
   ]
  },
  {
   "cell_type": "markdown",
   "id": "1451853b",
   "metadata": {},
   "source": [
    "## Part 2: Functions"
   ]
  },
  {
   "cell_type": "markdown",
   "id": "9336b5ba",
   "metadata": {},
   "source": [
    "### 2.1"
   ]
  },
  {
   "cell_type": "code",
   "execution_count": 37,
   "id": "4085576e",
   "metadata": {},
   "outputs": [
    {
     "name": "stdout",
     "output_type": "stream",
     "text": [
      "21\n"
     ]
    }
   ],
   "source": [
    "x = 7\n",
    "def triple(x):\n",
    "    print(x * 3)\n",
    "    \n",
    "    \n",
    "triple(x)"
   ]
  },
  {
   "cell_type": "markdown",
   "id": "935c3f11",
   "metadata": {},
   "source": [
    "### 2.2"
   ]
  },
  {
   "cell_type": "code",
   "execution_count": 36,
   "id": "b1893bfc",
   "metadata": {},
   "outputs": [
    {
     "name": "stdout",
     "output_type": "stream",
     "text": [
      "24\n"
     ]
    }
   ],
   "source": [
    "def multiply(a, b):\n",
    "    print(a * b)\n",
    "    \n",
    "    \n",
    "a = 4\n",
    "b = 6\n",
    "multiply(a, b)\n",
    "    "
   ]
  },
  {
   "cell_type": "markdown",
   "id": "9a17f47f",
   "metadata": {},
   "source": [
    "### 2.3"
   ]
  },
  {
   "cell_type": "code",
   "execution_count": null,
   "id": "b23de4c1",
   "metadata": {},
   "outputs": [],
   "source": [
    "def sum(a, b):\n",
    "    print(a + b)\n",
    "    \n",
    "sum(7, 8)"
   ]
  },
  {
   "cell_type": "markdown",
   "id": "cfb83e02",
   "metadata": {},
   "source": [
    "#### 2.4"
   ]
  },
  {
   "cell_type": "code",
   "execution_count": null,
   "id": "667b34d1",
   "metadata": {},
   "outputs": [],
   "source": [
    "def cube_volume():\n",
    "    side= int(input(\"What is the area of one side of the cube in inches? No need to include unit marker.\"))\n",
    "    print(\"The volume is \", side * 3, \".\")\n",
    "    \n",
    "cube_volume()\n",
    "    \n",
    "    "
   ]
  },
  {
   "cell_type": "markdown",
   "id": "c3f20c3d",
   "metadata": {},
   "source": [
    "### 2.5"
   ]
  },
  {
   "cell_type": "code",
   "execution_count": 12,
   "id": "21459798",
   "metadata": {},
   "outputs": [
    {
     "name": "stdout",
     "output_type": "stream",
     "text": [
      "Write your sentence here: I am Emily.\n"
     ]
    },
    {
     "data": {
      "text/plain": [
       "'IamEmily.'"
      ]
     },
     "execution_count": 12,
     "metadata": {},
     "output_type": "execute_result"
    }
   ],
   "source": [
    "def removeSpaces():\n",
    "    phrase= str(input(\"Write your sentence here: \"))\n",
    "    return phrase.replace(\" \", \"\")      \n",
    "    print(phrase())\n",
    "\n",
    "removeSpaces()"
   ]
  },
  {
   "cell_type": "markdown",
   "id": "74bc8a6f",
   "metadata": {},
   "source": [
    "### 2.6"
   ]
  },
  {
   "cell_type": "code",
   "execution_count": 31,
   "id": "acfce364",
   "metadata": {},
   "outputs": [
    {
     "name": "stdout",
     "output_type": "stream",
     "text": [
      "Write your sentence here: hi! i am emily.\n"
     ]
    },
    {
     "data": {
      "text/plain": [
       "'Hi! I Am Emily.'"
      ]
     },
     "execution_count": 31,
     "metadata": {},
     "output_type": "execute_result"
    }
   ],
   "source": [
    "my_sentence= str(input('Write your sentence here: '))\n",
    "\n",
    "def titlecase():\n",
    "    return my_sentence.title()\n",
    "    print (my_sentence)\n",
    "\n",
    "\n",
    "titlecase()"
   ]
  },
  {
   "cell_type": "markdown",
   "id": "f509e56e",
   "metadata": {},
   "source": [
    "## Part 3: Exceptions"
   ]
  },
  {
   "cell_type": "markdown",
   "id": "a39ad8d7",
   "metadata": {},
   "source": [
    "### 3.1"
   ]
  },
  {
   "cell_type": "code",
   "execution_count": 3,
   "id": "41c99dbe",
   "metadata": {},
   "outputs": [],
   "source": [
    "# It would print, \"Error occured.\""
   ]
  },
  {
   "cell_type": "markdown",
   "id": "56ffe4cf",
   "metadata": {},
   "source": [
    "### 3.2"
   ]
  },
  {
   "cell_type": "code",
   "execution_count": 1,
   "id": "c9c2cf7c",
   "metadata": {},
   "outputs": [
    {
     "name": "stdout",
     "output_type": "stream",
     "text": [
      "0.6666666666666666\n",
      "3.0\n",
      "Number cannot be divided by 0.\n"
     ]
    }
   ],
   "source": [
    "def division_by_0(x, y):\n",
    "    try:\n",
    "        print(x/y)\n",
    "    except:\n",
    "        print(\"Number cannot be divided by 0.\")\n",
    "\n",
    "division_by_0(4, 6)\n",
    "division_by_0(9, 3)\n",
    "division_by_0(2, 0)"
   ]
  },
  {
   "cell_type": "markdown",
   "id": "2bac40b4",
   "metadata": {},
   "source": [
    "### 3.3"
   ]
  },
  {
   "cell_type": "code",
   "execution_count": 14,
   "id": "4e985c77",
   "metadata": {},
   "outputs": [
    {
     "name": "stdout",
     "output_type": "stream",
     "text": [
      "-1\n",
      "Only numeric values can be subtracted.\n",
      "None\n",
      "3.0999999999999996\n",
      "Only numeric values can be subtracted.\n",
      "None\n"
     ]
    }
   ],
   "source": [
    "def safe_subtract(a, b):\n",
    "    if ((a== True or False) or (b== True or False)):\n",
    "        print(\"Only numeric values can be subtracted.\")\n",
    "    else:\n",
    "        try:\n",
    "            return (a - b)\n",
    "        except:\n",
    "            print(\"Only numeric values can be subtracted.\")\n",
    "    \n",
    "        \n",
    "print(safe_subtract(8, 9))\n",
    "print(safe_subtract(True, False))\n",
    "print(safe_subtract(4.3, 1.2))\n",
    "print(safe_subtract(\"lilac\", \"mauve\"))"
   ]
  },
  {
   "cell_type": "markdown",
   "id": "d90b211c",
   "metadata": {},
   "source": [
    "### 3.4"
   ]
  },
  {
   "cell_type": "code",
   "execution_count": null,
   "id": "1237cf9e",
   "metadata": {},
   "outputs": [],
   "source": [
    "def greet_person():\n",
    "    name =input(\"Please provide a name: \")\n",
    "        while name!=name.isalpha():\n",
    "            print(\"Please provide a name: \")|\n",
    "        if name==name.isalpha():\n",
    "            print(\"Hello, \" + name + \"!\")\n",
    "            \n",
    "greet_person()"
   ]
  },
  {
   "cell_type": "markdown",
   "id": "f5ab4265",
   "metadata": {},
   "source": [
    "### 3.5"
   ]
  },
  {
   "cell_type": "code",
   "execution_count": 17,
   "id": "868fffdf",
   "metadata": {},
   "outputs": [
    {
     "name": "stdout",
     "output_type": "stream",
     "text": [
      "Error\n"
     ]
    }
   ],
   "source": [
    "li = [1, 2, 3, 4, 5]\n",
    "try:\n",
    "    li[7]\n",
    "except IndexError:\n",
    "    print(\"Error\")"
   ]
  },
  {
   "cell_type": "code",
   "execution_count": 16,
   "id": "ed58c56e",
   "metadata": {},
   "outputs": [
    {
     "ename": "IndexError",
     "evalue": "list index out of range",
     "output_type": "error",
     "traceback": [
      "\u001b[1;31m---------------------------------------------------------------------------\u001b[0m",
      "\u001b[1;31mIndexError\u001b[0m                                Traceback (most recent call last)",
      "\u001b[1;32m~\\AppData\\Local\\Temp\\ipykernel_23060\\4005241262.py\u001b[0m in \u001b[0;36m<module>\u001b[1;34m\u001b[0m\n\u001b[1;32m----> 1\u001b[1;33m \u001b[0mli\u001b[0m\u001b[1;33m[\u001b[0m\u001b[1;36m7\u001b[0m\u001b[1;33m]\u001b[0m\u001b[1;33m\u001b[0m\u001b[1;33m\u001b[0m\u001b[0m\n\u001b[0m",
      "\u001b[1;31mIndexError\u001b[0m: list index out of range"
     ]
    }
   ],
   "source": [
    "li[7]"
   ]
  },
  {
   "cell_type": "code",
   "execution_count": null,
   "id": "c05bc3ba",
   "metadata": {},
   "outputs": [],
   "source": []
  }
 ],
 "metadata": {
  "kernelspec": {
   "display_name": "Python 3 (ipykernel)",
   "language": "python",
   "name": "python3"
  },
  "language_info": {
   "codemirror_mode": {
    "name": "ipython",
    "version": 3
   },
   "file_extension": ".py",
   "mimetype": "text/x-python",
   "name": "python",
   "nbconvert_exporter": "python",
   "pygments_lexer": "ipython3",
   "version": "3.9.13"
  }
 },
 "nbformat": 4,
 "nbformat_minor": 5
}
