{
 "cells": [
  {
   "cell_type": "markdown",
   "id": "46958e1a",
   "metadata": {},
   "source": [
    "# Patient Class"
   ]
  },
  {
   "cell_type": "code",
   "execution_count": 125,
   "id": "4d5425d2",
   "metadata": {},
   "outputs": [],
   "source": [
    "class Patient:\n",
    "    def __init__(self, name, symptoms):\n",
    "        self.name= name\n",
    "        self.symptoms= symptoms\n",
    "        \n",
    "    def has_covid(self):\n",
    "        if self.test is True:\n",
    "            self.result= 0.99\n",
    "        elif self.test is False:\n",
    "            self.result= 0.01 \n",
    "        else:\n",
    "            self.result= self.test\n",
    "        return self.result\n",
    "        \n",
    "    def add_test(self):\n",
    "        self.test= []\n",
    "        self.result= []\n",
    "        if type(self.symptoms) is bool:\n",
    "            self.test= self.symptoms\n",
    "        elif type(self.symptoms) is list:\n",
    "            x= len(self.symptoms)\n",
    "            self.test= x * .025\n",
    "        self.result= self.has_covid()\n",
    "        "
   ]
  },
  {
   "cell_type": "code",
   "execution_count": 126,
   "id": "9448e6a3",
   "metadata": {},
   "outputs": [],
   "source": [
    "p1= Patient('Bob', ['fever', 'cough', 'congestion', 'insomnia'])\n",
    "p2= Patient('Jerry', ['fever', 'cough', 'congestion'])\n",
    "p3= Patient('Lisa', ['fever', 'cough']) \n",
    "p4= Patient('Tom', False) \n",
    "p5= Patient('Larry', True) "
   ]
  },
  {
   "cell_type": "code",
   "execution_count": 127,
   "id": "68cacbe9",
   "metadata": {},
   "outputs": [
    {
     "name": "stdout",
     "output_type": "stream",
     "text": [
      "Bob\n",
      "['fever', 'cough', 'congestion', 'insomnia']\n",
      "0.1\n",
      "0.1\n"
     ]
    }
   ],
   "source": [
    "p1.add_test()\n",
    "print(p1.name)\n",
    "print(p1.symptoms)\n",
    "print(p1.test)\n",
    "print(p1.result)"
   ]
  },
  {
   "cell_type": "code",
   "execution_count": 128,
   "id": "28aa2170",
   "metadata": {},
   "outputs": [
    {
     "name": "stdout",
     "output_type": "stream",
     "text": [
      "Jerry\n",
      "['fever', 'cough', 'congestion']\n",
      "0.07500000000000001\n",
      "0.07500000000000001\n"
     ]
    }
   ],
   "source": [
    "p2.add_test()\n",
    "print(p2.name)\n",
    "print(p2.symptoms)\n",
    "print(p2.test)\n",
    "print(p2.result)"
   ]
  },
  {
   "cell_type": "code",
   "execution_count": 129,
   "id": "ea899be0",
   "metadata": {},
   "outputs": [
    {
     "name": "stdout",
     "output_type": "stream",
     "text": [
      "Lisa\n",
      "['fever', 'cough']\n",
      "0.05\n",
      "0.05\n"
     ]
    }
   ],
   "source": [
    "p3.add_test()\n",
    "print(p3.name)\n",
    "print(p3.symptoms)\n",
    "print(p3.test)\n",
    "print(p3.result)"
   ]
  },
  {
   "cell_type": "code",
   "execution_count": 130,
   "id": "cdea4285",
   "metadata": {},
   "outputs": [
    {
     "name": "stdout",
     "output_type": "stream",
     "text": [
      "Tom\n",
      "False\n",
      "False\n",
      "0.01\n"
     ]
    }
   ],
   "source": [
    "p4.add_test()\n",
    "print(p4.name)\n",
    "print(p4.symptoms)\n",
    "print(p4.test)\n",
    "print(p4.result)"
   ]
  },
  {
   "cell_type": "code",
   "execution_count": 131,
   "id": "40bad6c7",
   "metadata": {},
   "outputs": [
    {
     "name": "stdout",
     "output_type": "stream",
     "text": [
      "Larry\n",
      "True\n",
      "True\n",
      "0.99\n"
     ]
    }
   ],
   "source": [
    "p5.add_test()\n",
    "print(p5.name)\n",
    "print(p5.symptoms)\n",
    "print(p5.test)\n",
    "print(p5.result)"
   ]
  },
  {
   "cell_type": "markdown",
   "id": "8e5d0f7a",
   "metadata": {},
   "source": [
    "# Encoder Class"
   ]
  },
  {
   "cell_type": "markdown",
   "id": "3db567a4",
   "metadata": {},
   "source": [
    "## Breaks if words have the same # of characters- fix it"
   ]
  },
  {
   "cell_type": "code",
   "execution_count": 326,
   "id": "382d7963",
   "metadata": {},
   "outputs": [],
   "source": [
    "class Encoder(list):\n",
    "    def encode(self):\n",
    "        new_list= []\n",
    "        for x in self:\n",
    "            value= len(x) * 0.073\n",
    "            new_list.append(value)\n",
    "        return new_list\n",
    "    \n",
    "    def decode(self):\n",
    "        old_list= []\n",
    "        for x in new_list:\n",
    "            x= x / 2\n",
    "            for z in self:\n",
    "                y= len(z)\n",
    "                if x == y:\n",
    "                    old_list.append(z)\n",
    "        return old_list\n",
    "    "
   ]
  },
  {
   "cell_type": "code",
   "execution_count": 327,
   "id": "010fa9c9",
   "metadata": {},
   "outputs": [
    {
     "data": {
      "text/plain": [
       "['list', 'class', 'coding', 'for', 'googles']"
      ]
     },
     "execution_count": 327,
     "metadata": {},
     "output_type": "execute_result"
    }
   ],
   "source": [
    "list1= Encoder(['list', 'class', 'coding', 'for', 'googles'])\n",
    "list1.encode()\n",
    "list1.decode()"
   ]
  },
  {
   "cell_type": "code",
   "execution_count": null,
   "id": "238e86df",
   "metadata": {},
   "outputs": [],
   "source": []
  }
 ],
 "metadata": {
  "kernelspec": {
   "display_name": "Python 3 (ipykernel)",
   "language": "python",
   "name": "python3"
  },
  "language_info": {
   "codemirror_mode": {
    "name": "ipython",
    "version": 3
   },
   "file_extension": ".py",
   "mimetype": "text/x-python",
   "name": "python",
   "nbconvert_exporter": "python",
   "pygments_lexer": "ipython3",
   "version": "3.9.13"
  }
 },
 "nbformat": 4,
 "nbformat_minor": 5
}
