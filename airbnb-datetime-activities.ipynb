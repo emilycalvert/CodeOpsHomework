{
 "cells": [
  {
   "cell_type": "markdown",
   "metadata": {},
   "source": [
    "# Exploratory Data Analysis (EDA)"
   ]
  },
  {
   "cell_type": "markdown",
   "metadata": {
    "tags": [
     "2_min"
    ]
   },
   "source": [
    "You will learn how to systematically approach investigating an unknown dataset while maintaining a creative and open mind to search for insights."
   ]
  },
  {
   "cell_type": "markdown",
   "metadata": {
    "tags": [
     "5_min"
    ]
   },
   "source": [
    "## Context\n",
    "Airbnb is an online marketplace for people to rent places to stay. \n",
    "\n",
    "Airbnb has rolled out a new service to help listers set prices. Airbnb makes a percentage commission off of the listings, so they are incentivized to help listers price optimally; that is, at the maximum possible point where they will still close a deal. You are an Airbnb consultant helping with this new pricing service."
   ]
  },
  {
   "cell_type": "markdown",
   "metadata": {},
   "source": [
    "## Goal\n",
    "\n",
    "We are going to focus on a question: which features are helpful for finding out the appropriate listing price?"
   ]
  },
  {
   "cell_type": "markdown",
   "metadata": {},
   "source": [
    "## Load Data"
   ]
  },
  {
   "cell_type": "code",
   "execution_count": 2,
   "metadata": {},
   "outputs": [],
   "source": [
    "import pandas as pd"
   ]
  },
  {
   "cell_type": "code",
   "execution_count": 3,
   "metadata": {},
   "outputs": [],
   "source": [
    "calendar = pd.read_csv('data/calendar.csv', delimiter=',')"
   ]
  },
  {
   "cell_type": "code",
   "execution_count": 4,
   "metadata": {
    "scrolled": true
   },
   "outputs": [
    {
     "data": {
      "text/html": [
       "<div>\n",
       "<style scoped>\n",
       "    .dataframe tbody tr th:only-of-type {\n",
       "        vertical-align: middle;\n",
       "    }\n",
       "\n",
       "    .dataframe tbody tr th {\n",
       "        vertical-align: top;\n",
       "    }\n",
       "\n",
       "    .dataframe thead th {\n",
       "        text-align: right;\n",
       "    }\n",
       "</style>\n",
       "<table border=\"1\" class=\"dataframe\">\n",
       "  <thead>\n",
       "    <tr style=\"text-align: right;\">\n",
       "      <th></th>\n",
       "      <th>listing_id</th>\n",
       "      <th>date</th>\n",
       "      <th>available</th>\n",
       "      <th>price</th>\n",
       "      <th>adjusted_price</th>\n",
       "      <th>minimum_nights</th>\n",
       "      <th>maximum_nights</th>\n",
       "    </tr>\n",
       "  </thead>\n",
       "  <tbody>\n",
       "    <tr>\n",
       "      <th>0</th>\n",
       "      <td>34374201</td>\n",
       "      <td>2022-06-19</td>\n",
       "      <td>f</td>\n",
       "      <td>$130.00</td>\n",
       "      <td>$130.00</td>\n",
       "      <td>3.0</td>\n",
       "      <td>1125.0</td>\n",
       "    </tr>\n",
       "    <tr>\n",
       "      <th>1</th>\n",
       "      <td>1098863</td>\n",
       "      <td>2022-04-07</td>\n",
       "      <td>t</td>\n",
       "      <td>$88.00</td>\n",
       "      <td>$88.00</td>\n",
       "      <td>4.0</td>\n",
       "      <td>45.0</td>\n",
       "    </tr>\n",
       "    <tr>\n",
       "      <th>2</th>\n",
       "      <td>43680849</td>\n",
       "      <td>2022-01-20</td>\n",
       "      <td>t</td>\n",
       "      <td>$34.00</td>\n",
       "      <td>$34.00</td>\n",
       "      <td>150.0</td>\n",
       "      <td>1125.0</td>\n",
       "    </tr>\n",
       "    <tr>\n",
       "      <th>3</th>\n",
       "      <td>28833297</td>\n",
       "      <td>2022-01-03</td>\n",
       "      <td>t</td>\n",
       "      <td>$190.00</td>\n",
       "      <td>$190.00</td>\n",
       "      <td>3.0</td>\n",
       "      <td>1125.0</td>\n",
       "    </tr>\n",
       "    <tr>\n",
       "      <th>4</th>\n",
       "      <td>1905865</td>\n",
       "      <td>2022-05-06</td>\n",
       "      <td>t</td>\n",
       "      <td>$207.00</td>\n",
       "      <td>$207.00</td>\n",
       "      <td>3.0</td>\n",
       "      <td>1125.0</td>\n",
       "    </tr>\n",
       "    <tr>\n",
       "      <th>...</th>\n",
       "      <td>...</td>\n",
       "      <td>...</td>\n",
       "      <td>...</td>\n",
       "      <td>...</td>\n",
       "      <td>...</td>\n",
       "      <td>...</td>\n",
       "      <td>...</td>\n",
       "    </tr>\n",
       "    <tr>\n",
       "      <th>99995</th>\n",
       "      <td>24348078</td>\n",
       "      <td>2022-10-05</td>\n",
       "      <td>t</td>\n",
       "      <td>$65.00</td>\n",
       "      <td>$65.00</td>\n",
       "      <td>1.0</td>\n",
       "      <td>1125.0</td>\n",
       "    </tr>\n",
       "    <tr>\n",
       "      <th>99996</th>\n",
       "      <td>27579844</td>\n",
       "      <td>2022-10-11</td>\n",
       "      <td>f</td>\n",
       "      <td>$339.00</td>\n",
       "      <td>$339.00</td>\n",
       "      <td>30.0</td>\n",
       "      <td>1125.0</td>\n",
       "    </tr>\n",
       "    <tr>\n",
       "      <th>99997</th>\n",
       "      <td>6570718</td>\n",
       "      <td>2022-01-09</td>\n",
       "      <td>f</td>\n",
       "      <td>$85.00</td>\n",
       "      <td>$85.00</td>\n",
       "      <td>7.0</td>\n",
       "      <td>9.0</td>\n",
       "    </tr>\n",
       "    <tr>\n",
       "      <th>99998</th>\n",
       "      <td>29879085</td>\n",
       "      <td>2022-03-27</td>\n",
       "      <td>f</td>\n",
       "      <td>$190.00</td>\n",
       "      <td>$190.00</td>\n",
       "      <td>30.0</td>\n",
       "      <td>1125.0</td>\n",
       "    </tr>\n",
       "    <tr>\n",
       "      <th>99999</th>\n",
       "      <td>14841838</td>\n",
       "      <td>2021-12-17</td>\n",
       "      <td>f</td>\n",
       "      <td>$140.00</td>\n",
       "      <td>$140.00</td>\n",
       "      <td>30.0</td>\n",
       "      <td>1125.0</td>\n",
       "    </tr>\n",
       "  </tbody>\n",
       "</table>\n",
       "<p>100000 rows × 7 columns</p>\n",
       "</div>"
      ],
      "text/plain": [
       "       listing_id        date available    price adjusted_price  \\\n",
       "0        34374201  2022-06-19         f  $130.00        $130.00   \n",
       "1         1098863  2022-04-07         t   $88.00         $88.00   \n",
       "2        43680849  2022-01-20         t   $34.00         $34.00   \n",
       "3        28833297  2022-01-03         t  $190.00        $190.00   \n",
       "4         1905865  2022-05-06         t  $207.00        $207.00   \n",
       "...           ...         ...       ...      ...            ...   \n",
       "99995    24348078  2022-10-05         t   $65.00         $65.00   \n",
       "99996    27579844  2022-10-11         f  $339.00        $339.00   \n",
       "99997     6570718  2022-01-09         f   $85.00         $85.00   \n",
       "99998    29879085  2022-03-27         f  $190.00        $190.00   \n",
       "99999    14841838  2021-12-17         f  $140.00        $140.00   \n",
       "\n",
       "       minimum_nights  maximum_nights  \n",
       "0                 3.0          1125.0  \n",
       "1                 4.0            45.0  \n",
       "2               150.0          1125.0  \n",
       "3                 3.0          1125.0  \n",
       "4                 3.0          1125.0  \n",
       "...               ...             ...  \n",
       "99995             1.0          1125.0  \n",
       "99996            30.0          1125.0  \n",
       "99997             7.0             9.0  \n",
       "99998            30.0          1125.0  \n",
       "99999            30.0          1125.0  \n",
       "\n",
       "[100000 rows x 7 columns]"
      ]
     },
     "execution_count": 4,
     "metadata": {},
     "output_type": "execute_result"
    }
   ],
   "source": [
    "calendar"
   ]
  },
  {
   "cell_type": "markdown",
   "metadata": {},
   "source": [
    "## Activities"
   ]
  },
  {
   "cell_type": "markdown",
   "metadata": {},
   "source": [
    "**Q**: What is the type of each element of ```calendar['date']```?"
   ]
  },
  {
   "cell_type": "code",
   "execution_count": 6,
   "metadata": {},
   "outputs": [
    {
     "data": {
      "text/plain": [
       "str"
      ]
     },
     "execution_count": 6,
     "metadata": {},
     "output_type": "execute_result"
    }
   ],
   "source": [
    "type(calendar['date'][0])"
   ]
  },
  {
   "cell_type": "markdown",
   "metadata": {},
   "source": [
    "**Q**: Convert `date` into datetime class, and replace the existing column with the datetime class date."
   ]
  },
  {
   "cell_type": "code",
   "execution_count": 8,
   "metadata": {},
   "outputs": [],
   "source": [
    "calendar['date']= pd.to_datetime(calendar['date'])"
   ]
  },
  {
   "cell_type": "code",
   "execution_count": 9,
   "metadata": {},
   "outputs": [
    {
     "data": {
      "text/plain": [
       "pandas._libs.tslibs.timestamps.Timestamp"
      ]
     },
     "execution_count": 9,
     "metadata": {},
     "output_type": "execute_result"
    }
   ],
   "source": [
    "type(calendar['date'][0])"
   ]
  },
  {
   "cell_type": "markdown",
   "metadata": {},
   "source": [
    "**Q**: Create additional columns in `calendar` dataframe for `year`, `month`, and `year-month` (up to year and month, but not days) of the listing."
   ]
  },
  {
   "cell_type": "code",
   "execution_count": 15,
   "metadata": {},
   "outputs": [],
   "source": [
    "calendar['year'] = calendar['date'].dt.year"
   ]
  },
  {
   "cell_type": "code",
   "execution_count": 16,
   "metadata": {},
   "outputs": [],
   "source": [
    "calendar['month'] = calendar['date'].dt.month"
   ]
  },
  {
   "cell_type": "code",
   "execution_count": 18,
   "metadata": {},
   "outputs": [],
   "source": [
    "calendar['year_month'] = pd.to_datetime({'year': calendar['year'], 'month': calendar['month'], 'day': 1})\n",
    "\n"
   ]
  },
  {
   "cell_type": "code",
   "execution_count": 19,
   "metadata": {},
   "outputs": [
    {
     "name": "stdout",
     "output_type": "stream",
     "text": [
      "   listing_id       date available    price adjusted_price  minimum_nights  \\\n",
      "0    34374201 2022-06-19         f  $130.00        $130.00             3.0   \n",
      "1     1098863 2022-04-07         t   $88.00         $88.00             4.0   \n",
      "2    43680849 2022-01-20         t   $34.00         $34.00           150.0   \n",
      "3    28833297 2022-01-03         t  $190.00        $190.00             3.0   \n",
      "4     1905865 2022-05-06         t  $207.00        $207.00             3.0   \n",
      "\n",
      "   maximum_nights  year  month year_month  \n",
      "0          1125.0  2022      6 2022-06-01  \n",
      "1            45.0  2022      4 2022-04-01  \n",
      "2          1125.0  2022      1 2022-01-01  \n",
      "3          1125.0  2022      1 2022-01-01  \n",
      "4          1125.0  2022      5 2022-05-01  \n"
     ]
    }
   ],
   "source": [
    "print(calendar.head())"
   ]
  },
  {
   "cell_type": "markdown",
   "metadata": {},
   "source": [
    "**Q**: Create a dataframe called `Monthly Price` where each data point (or a row) is a median price for each `year-month`. \n",
    "\n",
    "Hint: Notice that `price` variable is string due ot the dollar sign. We need to replace the column with the numerical (either integer or float) variable. Use this code:\n",
    "`calendar['price'].replace('[$,]', '', regex=True).astype(float)`"
   ]
  },
  {
   "cell_type": "code",
   "execution_count": 21,
   "metadata": {},
   "outputs": [],
   "source": [
    "calendar['price']= calendar['price'].replace('[$,]', '', regex=True).astype(float)"
   ]
  },
  {
   "cell_type": "code",
   "execution_count": 23,
   "metadata": {},
   "outputs": [],
   "source": [
    "Monthly_Price = calendar.groupby('year_month')['price'].median()"
   ]
  },
  {
   "cell_type": "code",
   "execution_count": 25,
   "metadata": {},
   "outputs": [
    {
     "data": {
      "text/plain": [
       "year_month\n",
       "2021-11-01    110.0\n",
       "2021-12-01    115.0\n",
       "2022-01-01    112.0\n",
       "2022-02-01    118.0\n",
       "2022-03-01    115.0\n",
       "Name: price, dtype: float64"
      ]
     },
     "execution_count": 25,
     "metadata": {},
     "output_type": "execute_result"
    }
   ],
   "source": [
    "Monthly_Price.head()"
   ]
  },
  {
   "cell_type": "markdown",
   "metadata": {},
   "source": [
    "## References\n",
    "\n",
    "\"New York\", Inside Airbnb, http://insideairbnb.com/get-the-data.html\n",
    "\n"
   ]
  }
 ],
 "metadata": {
  "c1_recart": "6.5.0-57c20131aabc1dc2a8c675852d80a7da",
  "kernelspec": {
   "display_name": "Python 3 (ipykernel)",
   "language": "python",
   "name": "python3"
  },
  "language_info": {
   "codemirror_mode": {
    "name": "ipython",
    "version": 3
   },
   "file_extension": ".py",
   "mimetype": "text/x-python",
   "name": "python",
   "nbconvert_exporter": "python",
   "pygments_lexer": "ipython3",
   "version": "3.9.13"
  }
 },
 "nbformat": 4,
 "nbformat_minor": 2
}
