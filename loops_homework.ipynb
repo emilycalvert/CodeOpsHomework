{
 "cells": [
  {
   "cell_type": "markdown",
   "id": "4e1e00f3",
   "metadata": {},
   "source": [
    "# Loops"
   ]
  },
  {
   "cell_type": "markdown",
   "id": "99fc3bdc",
   "metadata": {},
   "source": [
    "## only_adults"
   ]
  },
  {
   "cell_type": "code",
   "execution_count": 11,
   "id": "b75588f7",
   "metadata": {},
   "outputs": [
    {
     "data": {
      "text/plain": [
       "[18, 29]"
      ]
     },
     "execution_count": 11,
     "metadata": {},
     "output_type": "execute_result"
    }
   ],
   "source": [
    "age= [12, 18, 29]\n",
    "\n",
    "def only_adults(age):  \n",
    "    only_adult= []\n",
    "    for x in age:\n",
    "        if x >= 18:\n",
    "            only_adult.append(x)\n",
    "    return only_adult\n",
    "    \n",
    "only_adults(age)"
   ]
  },
  {
   "cell_type": "markdown",
   "id": "123fa926",
   "metadata": {},
   "source": [
    "## get_only_adults "
   ]
  },
  {
   "cell_type": "code",
   "execution_count": 10,
   "id": "9ad168c9",
   "metadata": {},
   "outputs": [
    {
     "data": {
      "text/plain": [
       "[18, 19, 20, 21, 22, 23, 24]"
      ]
     },
     "execution_count": 10,
     "metadata": {},
     "output_type": "execute_result"
    }
   ],
   "source": [
    "ages= [13, 14, 15, 16, 17, 18, 19, 20, 21, 22, 23, 24, None]\n",
    "\n",
    "def get_only_adults(list):\n",
    "    get_only_adult= []\n",
    "    for x in list:\n",
    "        if x is not None and x >= 18:\n",
    "            get_only_adult.append(x)\n",
    "    return get_only_adult\n",
    "\n",
    "get_only_adults(ages)\n"
   ]
  },
  {
   "cell_type": "markdown",
   "id": "4d2ecde8",
   "metadata": {},
   "source": [
    "## are_all_adults"
   ]
  },
  {
   "cell_type": "code",
   "execution_count": 55,
   "id": "643ac673",
   "metadata": {},
   "outputs": [
    {
     "data": {
      "text/plain": [
       "True"
      ]
     },
     "execution_count": 55,
     "metadata": {},
     "output_type": "execute_result"
    }
   ],
   "source": [
    "set1= [18, 19, 20, 21]\n",
    "set2= [14, 15, 16, 17]\n",
    "set3= [16, 17, 18, 19]\n",
    "\n",
    "def all_adults(ages):\n",
    "    for x in ages:\n",
    "        if x < 18:\n",
    "            ages.append('false')\n",
    "        for y in ages:\n",
    "            if y == 'false':\n",
    "                return False\n",
    "        else:\n",
    "            return True\n",
    "\n",
    "all_adults(set1)"
   ]
  },
  {
   "cell_type": "markdown",
   "id": "079cb49e",
   "metadata": {},
   "source": [
    "## count_nones"
   ]
  },
  {
   "cell_type": "code",
   "execution_count": 39,
   "id": "59b0b844",
   "metadata": {},
   "outputs": [
    {
     "data": {
      "text/plain": [
       "4"
      ]
     },
     "execution_count": 39,
     "metadata": {},
     "output_type": "execute_result"
    }
   ],
   "source": [
    "list1= [None, None, None, None, True, False, 0, 1, 2, 3, \"hello\", \"goodbye\"]\n",
    "\n",
    "def count_nones(random):\n",
    "    nones= len([x for x in random if x == None])\n",
    "    return nones\n",
    "\n",
    "count_nones(list1)\n"
   ]
  },
  {
   "cell_type": "markdown",
   "id": "ca0dc669",
   "metadata": {},
   "source": [
    "## longest_words"
   ]
  },
  {
   "cell_type": "code",
   "execution_count": 120,
   "id": "aed5f3e6",
   "metadata": {},
   "outputs": [
    {
     "data": {
      "text/plain": [
       "'belligerent'"
      ]
     },
     "execution_count": 120,
     "metadata": {},
     "output_type": "execute_result"
    }
   ],
   "source": [
    "words= ['boy', 'ball', 'belief', 'belay', 'belligerent', 'bat']\n",
    "\n",
    "def longest_word(words):\n",
    "    \n",
    "    length= []\n",
    "    \n",
    "    for x in words:\n",
    "        length.append(len(x))\n",
    "    \n",
    "    max_val= max(length)\n",
    "    index_val= length.index(max_val)\n",
    "    return words[index_val]\n",
    "    \n",
    "longest_word(words)\n",
    "            "
   ]
  },
  {
   "cell_type": "markdown",
   "id": "276eb629",
   "metadata": {},
   "source": [
    "## factorial"
   ]
  },
  {
   "cell_type": "code",
   "execution_count": 28,
   "id": "d6d7b5b1",
   "metadata": {},
   "outputs": [
    {
     "data": {
      "text/plain": [
       "6"
      ]
     },
     "execution_count": 28,
     "metadata": {},
     "output_type": "execute_result"
    }
   ],
   "source": [
    "from functools import reduce\n",
    "\n",
    "num= 3\n",
    "\n",
    "def factorial(num):\n",
    "                \n",
    "    final_factor= reduce((lambda x, y: x * y), range(1, num + 1))\n",
    "    \n",
    "    return final_factor\n",
    "    \n",
    "factorial(num)"
   ]
  },
  {
   "cell_type": "markdown",
   "id": "1a35b931",
   "metadata": {},
   "source": [
    "## n_highest_number"
   ]
  },
  {
   "cell_type": "code",
   "execution_count": 53,
   "id": "0fa30463",
   "metadata": {},
   "outputs": [
    {
     "data": {
      "text/plain": [
       "4"
      ]
     },
     "execution_count": 53,
     "metadata": {},
     "output_type": "execute_result"
    }
   ],
   "source": [
    "number_list= [1, 2, 3, 4, 5, 6, 10]\n",
    "\n",
    "def n_highest_number(list, num):\n",
    "    list.sort()\n",
    "    num= -abs(num)\n",
    "    return list[num]\n",
    "   \n",
    "n_highest_number(number_list, 4)"
   ]
  }
 ],
 "metadata": {
  "kernelspec": {
   "display_name": "Python 3 (ipykernel)",
   "language": "python",
   "name": "python3"
  },
  "language_info": {
   "codemirror_mode": {
    "name": "ipython",
    "version": 3
   },
   "file_extension": ".py",
   "mimetype": "text/x-python",
   "name": "python",
   "nbconvert_exporter": "python",
   "pygments_lexer": "ipython3",
   "version": "3.9.13"
  }
 },
 "nbformat": 4,
 "nbformat_minor": 5
}
