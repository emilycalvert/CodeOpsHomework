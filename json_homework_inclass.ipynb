{
 "cells": [
  {
   "cell_type": "code",
   "execution_count": 7,
   "id": "ad823daa",
   "metadata": {},
   "outputs": [],
   "source": [
    "import json"
   ]
  },
  {
   "cell_type": "markdown",
   "id": "21e62d83",
   "metadata": {},
   "source": [
    "From Dict/Tuple to Json"
   ]
  },
  {
   "cell_type": "code",
   "execution_count": 4,
   "id": "f10e99cc",
   "metadata": {},
   "outputs": [],
   "source": [
    "data_tuple= (\"key 1\", \"value1\")"
   ]
  },
  {
   "cell_type": "code",
   "execution_count": 5,
   "id": "275c0f28",
   "metadata": {},
   "outputs": [],
   "source": [
    "data_dict = {\"key1\" : \"value1\", \"key2\" : \"value2\"}"
   ]
  },
  {
   "cell_type": "code",
   "execution_count": 8,
   "id": "0f410f2d",
   "metadata": {},
   "outputs": [
    {
     "name": "stdout",
     "output_type": "stream",
     "text": [
      "{\"key1\": \"value1\", \"key2\": \"value2\"}\n"
     ]
    }
   ],
   "source": [
    "print(json.dumps(data_dict))"
   ]
  },
  {
   "cell_type": "code",
   "execution_count": 9,
   "id": "cd4f1770",
   "metadata": {},
   "outputs": [
    {
     "name": "stdout",
     "output_type": "stream",
     "text": [
      "[\"key 1\", \"value1\"]\n"
     ]
    }
   ],
   "source": [
    "print(json.dumps(data_tuple))"
   ]
  },
  {
   "cell_type": "code",
   "execution_count": 12,
   "id": "cdf1df61",
   "metadata": {},
   "outputs": [],
   "source": [
    "data_json = json.dumps(data_dict, indent=2, separators=(\" , \", \" : \"))"
   ]
  },
  {
   "cell_type": "code",
   "execution_count": 13,
   "id": "c5165bc1",
   "metadata": {},
   "outputs": [
    {
     "name": "stdout",
     "output_type": "stream",
     "text": [
      "{\n",
      "  \"key1\" : \"value1\" , \n",
      "  \"key2\" : \"value2\"\n",
      "}\n"
     ]
    }
   ],
   "source": [
    "print(data_json)"
   ]
  },
  {
   "cell_type": "markdown",
   "id": "607c8241",
   "metadata": {},
   "source": [
    "From JSON to Python"
   ]
  },
  {
   "cell_type": "code",
   "execution_count": 14,
   "id": "58bee402",
   "metadata": {},
   "outputs": [],
   "source": [
    "x=  '{ \"name\":\"Minyoung\", \"age\":30, \"city\":\"Barcelona\"}'"
   ]
  },
  {
   "cell_type": "code",
   "execution_count": 15,
   "id": "e2971986",
   "metadata": {},
   "outputs": [],
   "source": [
    "y= json.loads(x)"
   ]
  },
  {
   "cell_type": "code",
   "execution_count": 16,
   "id": "2ac514a6",
   "metadata": {},
   "outputs": [
    {
     "data": {
      "text/plain": [
       "30"
      ]
     },
     "execution_count": 16,
     "metadata": {},
     "output_type": "execute_result"
    }
   ],
   "source": [
    "y[\"age\"]"
   ]
  },
  {
   "cell_type": "code",
   "execution_count": 17,
   "id": "bb61711a",
   "metadata": {},
   "outputs": [
    {
     "data": {
      "text/plain": [
       "'Minyoung'"
      ]
     },
     "execution_count": 17,
     "metadata": {},
     "output_type": "execute_result"
    }
   ],
   "source": [
    "y[\"name\"]"
   ]
  },
  {
   "cell_type": "code",
   "execution_count": 22,
   "id": "7a319a1f",
   "metadata": {},
   "outputs": [],
   "source": [
    "sampleJson= \"\"\"{\"company\":{\"employee\":{\"name\":\"emma\",\"payable\":{\"salary\":7000,\"bonus\":800}}}}\"\"\""
   ]
  },
  {
   "cell_type": "code",
   "execution_count": 23,
   "id": "8a1fde61",
   "metadata": {},
   "outputs": [],
   "source": [
    "pydat = json.loads(sampleJson)"
   ]
  },
  {
   "cell_type": "code",
   "execution_count": 24,
   "id": "e9bf1493",
   "metadata": {},
   "outputs": [
    {
     "data": {
      "text/plain": [
       "{'employee': {'name': 'emma', 'payable': {'salary': 7000, 'bonus': 800}}}"
      ]
     },
     "execution_count": 24,
     "metadata": {},
     "output_type": "execute_result"
    }
   ],
   "source": [
    "pydat['company']"
   ]
  },
  {
   "cell_type": "code",
   "execution_count": 25,
   "id": "7c3e1306",
   "metadata": {},
   "outputs": [
    {
     "data": {
      "text/plain": [
       "{'name': 'emma', 'payable': {'salary': 7000, 'bonus': 800}}"
      ]
     },
     "execution_count": 25,
     "metadata": {},
     "output_type": "execute_result"
    }
   ],
   "source": [
    "pydat['company']['employee']"
   ]
  },
  {
   "cell_type": "code",
   "execution_count": 26,
   "id": "d7b521fb",
   "metadata": {},
   "outputs": [
    {
     "data": {
      "text/plain": [
       "{'salary': 7000, 'bonus': 800}"
      ]
     },
     "execution_count": 26,
     "metadata": {},
     "output_type": "execute_result"
    }
   ],
   "source": [
    "pydat['company']['employee']['payable']"
   ]
  },
  {
   "cell_type": "code",
   "execution_count": 27,
   "id": "1a908efc",
   "metadata": {},
   "outputs": [
    {
     "data": {
      "text/plain": [
       "7000"
      ]
     },
     "execution_count": 27,
     "metadata": {},
     "output_type": "execute_result"
    }
   ],
   "source": [
    "pydat['company']['employee']['payable']['salary']"
   ]
  },
  {
   "cell_type": "code",
   "execution_count": 43,
   "id": "4acd4fa7",
   "metadata": {},
   "outputs": [
    {
     "data": {
      "text/plain": [
       "dict"
      ]
     },
     "execution_count": 43,
     "metadata": {},
     "output_type": "execute_result"
    }
   ],
   "source": [
    "import json\n",
    "\n",
    "url= 'https://raw.githubusercontent.com/CodeOp-tech/dspt7-modules-json-emilycalvert/main/states.json?token=GHSAT0AAAAAAB6D5BPUW456VBZAGJF45WQYY7ZKMZA'\n",
    "resp= requests.get(url)\n",
    "data= json.loads(resp.text)\n"
   ]
  },
  {
   "cell_type": "code",
   "execution_count": 45,
   "id": "d2aa09d4",
   "metadata": {},
   "outputs": [
    {
     "data": {
      "text/plain": [
       "{'name': 'Alabama',\n",
       " 'abbreviation': 'AL',\n",
       " 'area_codes': ['205', '251', '256', '334', '938']}"
      ]
     },
     "execution_count": 45,
     "metadata": {},
     "output_type": "execute_result"
    }
   ],
   "source": [
    "data['states'][0]"
   ]
  },
  {
   "cell_type": "code",
   "execution_count": 46,
   "id": "43751645",
   "metadata": {},
   "outputs": [
    {
     "data": {
      "text/plain": [
       "{'name': 'Alaska', 'abbreviation': 'AK', 'area_codes': ['907']}"
      ]
     },
     "execution_count": 46,
     "metadata": {},
     "output_type": "execute_result"
    }
   ],
   "source": [
    "data['states'][1]"
   ]
  },
  {
   "cell_type": "code",
   "execution_count": 47,
   "id": "449d2bdf",
   "metadata": {},
   "outputs": [
    {
     "data": {
      "text/plain": [
       "'AK'"
      ]
     },
     "execution_count": 47,
     "metadata": {},
     "output_type": "execute_result"
    }
   ],
   "source": [
    "data['states'][1]['abbreviation']"
   ]
  },
  {
   "cell_type": "code",
   "execution_count": 48,
   "id": "19743ce9",
   "metadata": {},
   "outputs": [
    {
     "data": {
      "text/plain": [
       "50"
      ]
     },
     "execution_count": 48,
     "metadata": {},
     "output_type": "execute_result"
    }
   ],
   "source": [
    "len(data['states'])"
   ]
  },
  {
   "cell_type": "code",
   "execution_count": 50,
   "id": "5eeeefde",
   "metadata": {},
   "outputs": [
    {
     "name": "stdout",
     "output_type": "stream",
     "text": [
      "AL\n",
      "AK\n",
      "AZ\n",
      "AR\n",
      "CA\n",
      "CO\n",
      "CT\n",
      "DE\n",
      "FL\n",
      "GA\n",
      "HI\n",
      "ID\n",
      "IL\n",
      "IN\n",
      "IA\n",
      "KS\n",
      "KY\n",
      "LA\n",
      "ME\n",
      "MD\n",
      "MA\n",
      "MI\n",
      "MN\n",
      "MS\n",
      "MO\n",
      "MT\n",
      "NE\n",
      "NV\n",
      "NH\n",
      "NJ\n",
      "NM\n",
      "NY\n",
      "NC\n",
      "ND\n",
      "OH\n",
      "OK\n",
      "OR\n",
      "PA\n",
      "RI\n",
      "SC\n",
      "SD\n",
      "TN\n",
      "TX\n",
      "UT\n",
      "VT\n",
      "VA\n",
      "WA\n",
      "WV\n",
      "WI\n",
      "WY\n"
     ]
    }
   ],
   "source": [
    "for state in data['states']:\n",
    "    print(state['abbreviation'])\n"
   ]
  },
  {
   "cell_type": "code",
   "execution_count": null,
   "id": "5b6abff5",
   "metadata": {},
   "outputs": [],
   "source": []
  }
 ],
 "metadata": {
  "kernelspec": {
   "display_name": "Python 3 (ipykernel)",
   "language": "python",
   "name": "python3"
  },
  "language_info": {
   "codemirror_mode": {
    "name": "ipython",
    "version": 3
   },
   "file_extension": ".py",
   "mimetype": "text/x-python",
   "name": "python",
   "nbconvert_exporter": "python",
   "pygments_lexer": "ipython3",
   "version": "3.9.13"
  }
 },
 "nbformat": 4,
 "nbformat_minor": 5
}
